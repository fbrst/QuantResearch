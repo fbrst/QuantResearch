{
 "cells": [
  {
   "cell_type": "code",
   "execution_count": 1,
   "id": "d78a83b4-4980-42e5-9268-baa6b06a4a93",
   "metadata": {},
   "outputs": [],
   "source": [
    "from ibapi.client import EClient\n",
    "from ibapi.wrapper import EWrapper\n",
    "import threading\n",
    "import time"
   ]
  },
  {
   "cell_type": "code",
   "execution_count": 2,
   "id": "def1aca4-6c71-4e1a-ae37-dde2a0b80c29",
   "metadata": {},
   "outputs": [],
   "source": [
    "# Basic Code Structure\n",
    "class IBApp(EWrapper, EClient):\n",
    "    def __init__(self):\n",
    "        EClient.__init__(self, self)\n",
    "    \n",
    "    def nextValidId(self, orderId):\n",
    "        time.sleep(1) # pause for connection\n",
    "        print(f\"Connected - Next Order ID: {orderId}\")"
   ]
  },
  {
   "cell_type": "code",
   "execution_count": 3,
   "id": "2b9f10cb-14df-43c4-9aba-341e1ed69f12",
   "metadata": {},
   "outputs": [],
   "source": [
    "# Connect\n",
    "app = IBApp()\n",
    "app.connect('127.0.0.1', 7497, 123) # host, port, clientID\n",
    "\n",
    "# Call app.run as a background thread\n",
    "thread = threading.Thread(target=app.run)\n",
    "thread.start()"
   ]
  },
  {
   "cell_type": "code",
   "execution_count": 4,
   "id": "59bf3e87-19de-4503-8edb-53d8952bf7ef",
   "metadata": {},
   "outputs": [
    {
     "name": "stderr",
     "output_type": "stream",
     "text": [
      "ERROR -1 2104 Market data farm connection is OK:usfarm.nj\n",
      "ERROR -1 2104 Market data farm connection is OK:eufarm\n",
      "ERROR -1 2104 Market data farm connection is OK:cashfarm\n",
      "ERROR -1 2104 Market data farm connection is OK:usfarm\n",
      "ERROR -1 2106 HMDS data farm connection is OK:euhmds\n",
      "ERROR -1 2106 HMDS data farm connection is OK:ushmds\n",
      "ERROR -1 2158 Sec-def data farm connection is OK:secdefil\n"
     ]
    },
    {
     "name": "stdout",
     "output_type": "stream",
     "text": [
      "Connected - Next Order ID: 1\n"
     ]
    }
   ],
   "source": [
    "# Disconnect Cleanly\n",
    "app.disconnect()\n",
    "thread.join()"
   ]
  },
  {
   "cell_type": "code",
   "execution_count": null,
   "id": "8a16ce98-5e45-4e74-8cbb-ceb311116ec1",
   "metadata": {},
   "outputs": [],
   "source": []
  }
 ],
 "metadata": {
  "kernelspec": {
   "display_name": "Python 3 (ipykernel)",
   "language": "python",
   "name": "python3"
  },
  "language_info": {
   "codemirror_mode": {
    "name": "ipython",
    "version": 3
   },
   "file_extension": ".py",
   "mimetype": "text/x-python",
   "name": "python",
   "nbconvert_exporter": "python",
   "pygments_lexer": "ipython3",
   "version": "3.9.18"
  }
 },
 "nbformat": 4,
 "nbformat_minor": 5
}
