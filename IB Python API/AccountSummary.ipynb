{
 "cells": [
  {
   "cell_type": "code",
   "execution_count": 1,
   "id": "4c373ea6-6320-4ee8-9d24-e36cc01cf9fe",
   "metadata": {
    "tags": []
   },
   "outputs": [],
   "source": [
    "from ibapi.client import EClient\n",
    "from ibapi.wrapper import EWrapper\n",
    "from threading import Thread\n",
    "import time\n",
    "\n",
    "class IBApp(EWrapper, EClient):\n",
    "    def __init__(self):\n",
    "        EClient.__init__(self, self)\n",
    "        self.account_values = {}\n",
    "        self.positions = []\n",
    "        self.account_summary_finished = False\n",
    "        self.positions_finished = False\n",
    "        self.disconnected = False  # Flag to protect multiple disconnects\n",
    "\n",
    "    def nextValidId(self, orderId):\n",
    "        print(f\"Connected. Next valid order id: {orderId}\")\n",
    "        self.reqAccountSummary(9001, \"All\", \"TotalCashValue,AvailableFunds,BuyingPower,NetLiquidation\")\n",
    "        self.reqPositions()\n",
    "\n",
    "    def accountSummary(self, reqId, account, tag, value, currency):\n",
    "        print(f\"Account Summary: Account: {account}, {tag} = {value} {currency}\")\n",
    "        self.account_values[tag] = (value, currency)\n",
    "\n",
    "    def accountSummaryEnd(self, reqId):\n",
    "        # Avoid printing multiple times for the same reqId if triggered repeatedly\n",
    "        if not self.account_summary_finished:\n",
    "            print(\"Finished account summary request.\")\n",
    "            self.account_summary_finished = True\n",
    "            self.try_disconnect()\n",
    "\n",
    "    def position(self, account, contract, position, avgCost):\n",
    "        print(f\"Position: {contract.symbol} | Qty: {position} | Avg Cost: {avgCost}\")\n",
    "        self.positions.append((account, contract, position, avgCost))\n",
    "\n",
    "    def positionEnd(self):\n",
    "        if not self.positions_finished:\n",
    "            print(\"Finished positions request.\")\n",
    "            self.positions_finished = True\n",
    "            self.try_disconnect()\n",
    "\n",
    "    def try_disconnect(self):\n",
    "        if self.account_summary_finished and self.positions_finished and not self.disconnected:\n",
    "            print(\"Received all data, disconnecting.\")\n",
    "            self.disconnected = True\n",
    "            self.disconnect()\n",
    "\n",
    "    def error(self, reqId, errorCode, errorString):\n",
    "        print(f\"Error {errorCode}: {errorString}\")\n"
   ]
  },
  {
   "cell_type": "code",
   "execution_count": 4,
   "id": "c4e55888-d66c-4f4a-80e9-47d77bb04d11",
   "metadata": {
    "tags": []
   },
   "outputs": [
    {
     "name": "stdout",
     "output_type": "stream",
     "text": [
      "Connected. Next valid order id: 1\n",
      "Error 2104: Market data farm connection is OK:usfarm.nj\n",
      "Error 2104: Market data farm connection is OK:cashfarm\n",
      "Error 2104: Market data farm connection is OK:usfarm\n",
      "Error 2106: HMDS data farm connection is OK:euhmds\n",
      "Error 2106: HMDS data farm connection is OK:fundfarm\n",
      "Error 2106: HMDS data farm connection is OK:ushmds\n",
      "Error 2158: Sec-def data farm connection is OK:secdefil\n",
      "Finished positions request.\n",
      "Account Summary: Account: DU7864794, AvailableFunds = 1080402.51 GBP\n",
      "Account Summary: Account: DU7864794, BuyingPower = 4321610.04 GBP\n",
      "Account Summary: Account: DU7864794, NetLiquidation = 1083840.84 GBP\n",
      "Account Summary: Account: DU7864794, TotalCashValue = 1080402.51 GBP\n",
      "Finished account summary request.\n",
      "Received all data, disconnecting.\n"
     ]
    }
   ],
   "source": [
    "def run_loop(app):\n",
    "    app.run()\n",
    "\n",
    "app = IBApp()\n",
    "app.connect(\"127.0.0.1\", 7497, clientId=1) #7496 = Live, 7497 = Simulated Account \n",
    "\n",
    "api_thread = Thread(target=run_loop, args=(app,))\n",
    "api_thread.start()\n",
    "\n",
    "api_thread.join()\n"
   ]
  },
  {
   "cell_type": "code",
   "execution_count": null,
   "id": "0401c99c-aecf-42b9-a596-792a67b1ff07",
   "metadata": {},
   "outputs": [],
   "source": []
  }
 ],
 "metadata": {
  "kernelspec": {
   "display_name": "Python 3 (ipykernel)",
   "language": "python",
   "name": "python3"
  },
  "language_info": {
   "codemirror_mode": {
    "name": "ipython",
    "version": 3
   },
   "file_extension": ".py",
   "mimetype": "text/x-python",
   "name": "python",
   "nbconvert_exporter": "python",
   "pygments_lexer": "ipython3",
   "version": "3.9.12"
  }
 },
 "nbformat": 4,
 "nbformat_minor": 5
}
