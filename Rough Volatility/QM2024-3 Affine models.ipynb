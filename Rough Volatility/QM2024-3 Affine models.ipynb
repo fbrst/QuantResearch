{
 "cells": [
  {
   "cell_type": "markdown",
   "metadata": {
    "slideshow": {
     "slide_type": "slide"
    },
    "tags": []
   },
   "source": [
    "# QuantMinds International\n",
    "<p>\n",
    "\n",
    "### Intercontinential O2 London, November  18, 2024\n",
    "\n",
    "<p>\n",
    "<p>\n",
    "\n",
    "### Rough volatility workshop\n",
    "\n",
    "<p>\n",
    "    \n",
    "### Lecture 3: Affine forward variance models and their microstructural foundation\n",
    "\n",
    "\n",
    "\n",
    "\n",
    "\n",
    "Jim Gatheral   \n",
    "Department of Mathematics     \n",
    "\n",
    "<h3><img src=\"http://mfe.baruch.cuny.edu/wp-content/uploads/2014/07/BaruchLogo2.png\" align = \"left\" width=160></h3> \n",
    "\n",
    "$$\n",
    "\\DeclareMathOperator*{\\argmax}{argmax} % thin space, limits underneath in displays\n",
    "\\newcommand{\\E}{\\mathbb{E}}\n",
    "\\newcommand{\\R}{\\mathbb{R}}\n",
    "\\newcommand{\\sigl}{\\sigma_L} \n",
    "\\newcommand{\\BS}{\\rm BS}\n",
    "\\newcommand{\\VIX}{\\rm VIX}\n",
    "\\newcommand{\\BV}{\\rm BV}\n",
    "\\newcommand{\\p}{\\partial}\n",
    "\\newcommand{\\var}{{\\rm var}}\n",
    "\\newcommand{\\cov}{{\\rm cov}}\n",
    "\\newcommand{\\beas}{\\begin{eqnarray*}}\n",
    "\\newcommand{\\eeas}{\\end{eqnarray*}}\n",
    "\\newcommand{\\bal}{\\begin{align}}\n",
    "\\newcommand{\\eal}{\\end{align}}\n",
    "\\newcommand{\\bas}{\\begin{align*}}\n",
    "\\newcommand{\\eas}{\\end{align*}}\n",
    "\\newcommand{\\bea}{\\begin{eqnarray}}\n",
    "\\newcommand{\\eea}{\\end{eqnarray}}\n",
    "\\newcommand{\\tmop}{\\end{eqnarray}}\n",
    "\\newcommand{\\ben}{\\begin{enumerate}}\n",
    "\\newcommand{\\een}{\\end{enumerate}}\n",
    "\\newcommand{\\wh}{\\widehat}\n",
    "\\newcommand{\\Ind}[1]{\\mathbbm{1}_{\\left\\{#1\\right\\}}}\n",
    "\\newcommand{\\Rplus}{\\mathbb{R}_{\\geqslant 0}}\n",
    "\\newcommand{\\Rpplus}{\\mathbb{R}_{> 0}}\n",
    "\\newcommand{\\Rminus}{\\mathbb{R}_{\\leqslant 0}}\n",
    "\\newcommand{\\wt}[1]{{\\widetilde{#1}}}\n",
    "\\newcommand{\\ui}{\\mathrm{i}}\n",
    "\\newcommand{\\e}{\\mathrm{e}}\n",
    "\\newcommand{\\mt}{\\mathbf{t}}\n",
    "\\newcommand{\\dm}{\\diamond} \n",
    "\\newcommand{\\dd}{\\mathrm{d}}\n",
    "\\newcommand{\\sq}{\\square}\n",
    "\\newcommand{\\mS}{\\mathbf{S}}\n",
    "\\newcommand{\\mA}{\\mathbbm{A}}\n",
    "\\newcommand{\\tC}{\\widetilde{C}}\n",
    "\\newcommand{\\hC}{\\widehat{C}}\n",
    "\\newcommand{\\tH}{\\widetilde{H}}\n",
    "\\newcommand{\\cD}{\\mathcal{D}}\n",
    "\\newcommand{\\cB}{\\mathcal{B}}\n",
    "\\newcommand{\\cA}{\\mathcal{A}}\n",
    "\\newcommand{\\CC}{\\mathbb{C}}\n",
    "\\newcommand{\\Rp}{\\mathbb{R}_{>0}}\n",
    "\\newcommand{\\cR}{\\mathcal{R}}\n",
    "\\newcommand{\\cU}{\\mathcal{U}}\n",
    "\\newcommand{\\cS}{\\mathcal{S}}\n",
    "\\newcommand{\\cL}{\\mathcal{L}}\n",
    "\\newcommand{\\cF}{\\mathcal{F}}\n",
    "\\newcommand{\\cW}{\\mathcal{W}}\n",
    "\\newcommand{\\mF}{\\mathbb{F}}\n",
    "\\newcommand{\\mT}{\\mathbb{T}}\n",
    "\\newcommand{\\mK}{\\mathbb{K}}\n",
    "\\newcommand{\\Y}{Y}\n",
    "\\newcommand{\\cV}{\\mathcal{V}}\n",
    "\\newcommand{\\cG}{\\mathcal{G}}\n",
    "\\newcommand{\\cv}{\\mathcal{v}}\n",
    "\\newcommand{\\cg}{\\mathcal{g}}\n",
    "\\newcommand{\\cH}{\\mathcal{H}}\n",
    "\\newcommand{\\cI}{\\mathcal{I}}\n",
    "\\newcommand{\\cK}{\\mathcal{K}}\n",
    "\\newcommand{\\cJ}{\\mathcal{J}}\n",
    "\\newcommand{\\cC}{\\mathcal{C}}\n",
    "\\newcommand{\\D}{\\mathrm{d}}\n",
    "\\newcommand{\\cE}{\\mathcal{E}}\n",
    "\\newcommand{\\I}{{i\\mkern1mu}}\n",
    "\\newcommand{\\eps}{\\epsilon}\n",
    "\\newcommand{\\RR}{\\mathbb{R}}\n",
    "\\newcommand{\\He}{\\mathrm{He}}\n",
    "\\newcommand{\\mM}{\\mathbb{M}}\n",
    "\\newcommand{\\mG}{\\mathbb{G}}\n",
    "\\newcommand{\\tmF}{\\tilde {\\mathbb{F}}}\n",
    "\\newcommand{\\mP}{\\mathbb{P}}\n",
    "\\newcommand{\\mQ}{\\mathbb{Q}}\n",
    "\\newcommand{\\IF}{It\\^o's Formula}\n",
    "\\newcommand{\\cO}{\\mathcal{O}}\n",
    "\\newcommand{\\dt}{delta t}\n",
    "\\newcommand{\\tr}{{\\rm tr}}\n",
    "\\newcommand{\\bi}{\\begin{itemize}}\n",
    "\\newcommand{\\ei}{\\end{itemize}}\n",
    "\\newcommand{\\beq}{\\begin{equation}}\n",
    "\\newcommand{\\eeq}{\\end{equation}}\n",
    "\\newcommand{\\bv}{\\begin{verbatim}}\n",
    "\\newcommand{\\ev}{\\end{verbatim}}\n",
    "\\newcommand{\\dsum}{\\displaystyle\\sum}\n",
    "\\newcommand{\\sgn}{\\mathrm{sign}}\n",
    "\\newcommand{\\EE}{\\mathbb{E}}\n",
    "\\newcommand{\\ee}[1]{ {\\mathbb{E}\\left[{#1}\\right]}}\n",
    "\\newcommand{\\eef}[1]{ {\\mathbb{E}\\left[\\left.{#1}\\right|\\cF_t\\right]}}\n",
    "\\newcommand{\\eefs}[2]{{\\mathbb{E}\\left[\\left.{#1}\\right|\\cF_{#2}\\right]}}\n",
    "\\newcommand{\\eefm}[2]{{\\mathbb{E}^{#2}\\left[\\left.{#1}\\right|\\cF_t\\right]}}\n",
    "\\newcommand{\\covf}[1]{ {\\cov\\left[\\left.{#1}\\right|\\cF_t\\right]}}\n",
    "\\newcommand{\\varf}[1]{ {\\var\\left[\\left.{#1}\\right|\\cF_t\\right]}}\n",
    "\\newcommand{\\vart}[1]{\\var_t\\left[ #1 \\right]}\n",
    "\\newcommand{\\varfs}[2]{\\var\\left[\\left.{#1}\\right|\\cF_{#2}\\right]}\n",
    "\\newcommand{\\vartm}[2]{\\var_t^{#2}\\left[#1\\right]}\n",
    "\\newcommand{\\covfs}[2]{\\cov\\left[\\left.{#1}\\right|\\cF_{#2}\\right]}\n",
    "\\newcommand{\\covt}[1]{\\cov_t\\left[#1\\right]}\n",
    "\\newcommand{\\cEE}[1]{\\cE\\left({#1}\\right)}\n",
    "\\newcommand{\\eets}[2]{\\mathbb{E}_{#2}\\left[#1\\right]}\n",
    "\\newcommand{\\eetm}[2]{\\mathbb{E}_t^{#2}\\left[#1\\right]}\n",
    "\\newcommand{\\eet}[1]{\\mathbb{E}_{t}\\left[#1\\right]}\n",
    "\\newcommand{\\angl}[1]{\\left\\langle{#1}\\right\\rangle}\n",
    "\\newcommand{\\bangl}[1]{\\bigg \\langle{#1}\\bigg \\rangle}\n",
    "\\newcommand{\\ip}[2]{\\left\\langle #1\\,,\\,#2 \\right\\rangle}\n",
    "$$\n",
    "\n"
   ]
  },
  {
   "cell_type": "markdown",
   "metadata": {
    "slideshow": {
     "slide_type": "slide"
    },
    "tags": []
   },
   "source": [
    "### Outline of Lecture 3\n",
    "\n",
    "* The microstructural foundation of affine forward variance models\n",
    "\n",
    "\n",
    "- Characteristic function methods\n",
    "    - Option pricing\n",
    "    - The ATM skew\n",
    "    - The skew-stickiness ratio\n",
    "\n",
    "\n",
    "* Diamonds and the forest expansion\n",
    "\n",
    "\n",
    "* Moment computations\n"
   ]
  },
  {
   "cell_type": "markdown",
   "metadata": {
    "slideshow": {
     "slide_type": "slide"
    },
    "tags": []
   },
   "source": [
    "### A microstructural foundation for affine stochastic volatility models\n",
    "\n",
    "\n",
    "- <span>[Jaisson and Rosenbaum]<sup id=\"cite_ref-JaissonRosenbaum\" class=\"reference\"><a href=\"#cite_note-JaissonRosenbaum\"><span>[10]</span></a></sup> first showed that affine stochastic volatility models could arise as limits of Hawkes process-based models of order flow.\n",
    "\n",
    "\n",
    "- In the following, we both generalize and attempt to give intuition for their argument."
   ]
  },
  {
   "cell_type": "markdown",
   "metadata": {
    "slideshow": {
     "slide_type": "slide"
    }
   },
   "source": [
    "### Hawkes processes\n",
    "\n",
    "- Dating from the 1970's, Hawkes processes are jump processes where the jump arrival rate is self-exciting.\n",
    "\n",
    "\n",
    "- One of the first applications was to the modeling of earthquakes."
   ]
  },
  {
   "cell_type": "markdown",
   "metadata": {
    "slideshow": {
     "slide_type": "slide"
    }
   },
   "source": [
    "### The Hawkes process-based microstructure model of Jaisson and Rosenbaum\n",
    "\n",
    "<span>[Jaisson and Rosenbaum]<sup id=\"cite_ref-JaissonRosenbaum\" class=\"reference\"><a href=\"#cite_note-JaissonRosenbaum\"><span>[10]</span></a></sup> consider the following simple model of price formation:\n",
    "\n",
    "- Order arrivals are modeled as a counting process\n",
    "    - Buy order arrivals cause the price to increase\n",
    "    - Sell order arrivals cause the price to decrease\n",
    "    - All orders are unit size\n",
    "  \n",
    "  \n",
    "- The order arrival process is self-exciting\n",
    "    - The price process is a bivariate Hawkes process.\n"
   ]
  },
  {
   "cell_type": "markdown",
   "metadata": {
    "slideshow": {
     "slide_type": "slide"
    }
   },
   "source": [
    "### The stock price process\n",
    "\n",
    "Specifically, with $X_t = \\log S_t$,\n",
    "\n",
    "$$\n",
    "dX_t = m_X dt + dN_t^+ - dN_t^-\n",
    "$$\n",
    "\n",
    "where $N^{\\pm}$ are counting processes with arrival rates $\\lambda^{\\pm}_t$, and $m_X$ is determined by the martingale condition on $S=e^X$."
   ]
  },
  {
   "cell_type": "markdown",
   "metadata": {
    "slideshow": {
     "slide_type": "slide"
    }
   },
   "source": [
    "### The order arrival rate process\n",
    "\n",
    "$$\n",
    "\\mathbf {\\lambda}_t = \\mu +  \\int_0^t\\,\\varphi(t-s)\\,d{\\bf N}_s.\n",
    "$$\n",
    "where $\\lambda = \\{\\lambda^+,\\lambda^-\\}$ and ${\\bf N}=\\{N^+,N^-\\}$.  The kernel $\\varphi$ is a $2 \\times 2 $ matrix.\n",
    "\n",
    "- The order arrival process is self-exciting.  \n",
    "   - As orders arrive, the order arrival rate increases.\n",
    "   - In the absence of new orders, the order arrival rate decays according to some Hawkes kernel $\\varphi$.\n",
    "\n",
    "\n",
    "\n",
    "\n",
    "- Jaisson and Rosenbaum show that that in a suitable scaling limit, and with a suitable choice of the kernel $\\varphi$, this model tends to the rough Heston model."
   ]
  },
  {
   "cell_type": "markdown",
   "metadata": {
    "slideshow": {
     "slide_type": "slide"
    }
   },
   "source": [
    "### Affine forward intensity (AFI) models\n",
    "\n",
    "- In analogy to stochastic volatility models in forward variance form, [Gatheral and Keller-Ressel]<sup id=\"cite_ref-AFV\" class=\"reference\"><a href=\"#cite_note-AFV\"><span>[</span>9<span>]</span></a></sup> define the forward intensity model\n",
    "<p>\n",
    "$$\n",
    "\\begin{align}\n",
    "dX_t &= -\\lambda_{t} m_X dt + dJ_t^+ - dJ_t^-,\\\\\n",
    "d\\xi_t(T) &=  \\kappa(T-t)  \\left(\\gamma^+\\, d\\wt{J}^+_t  + \\gamma^-\\,d\\wt{J}^-_t\\right).\n",
    "\\end{align}\n",
    "$$\n",
    "    <p>\n",
    "where $\\kappa$ is an integrable, decreasing non-zero kernel. \n",
    "\n",
    "    - $\\gamma^{\\pm}$ are positive constants\n",
    "    - jumps can have various sizes; the jump size measures are $\\zeta_{\\pm}$\n",
    "    - $m_X$ is determined by the martingale condition on $S=e^X$ "
   ]
  },
  {
   "cell_type": "markdown",
   "metadata": {
    "slideshow": {
     "slide_type": "subslide"
    }
   },
   "source": [
    "- The $\\wt{J}^{\\pm}_t$ denote the *compensated* order flow processes, i.e. \n",
    "<p>\n",
    "$$\\wt{J}^{\\pm}_t := J^\\pm_t - m_\\pm \\int_0^t \\lambda_{s}ds,$$\n",
    "<p>\n",
    "where\n",
    "$$\n",
    "m_\\pm = \\int_{\\Rplus} x \\, \\zeta_\\pm(dx).\n",
    "$$"
   ]
  },
  {
   "cell_type": "markdown",
   "metadata": {
    "slideshow": {
     "slide_type": "slide"
    }
   },
   "source": [
    "### Variance and jump intensity\n",
    "\n",
    "Denote the variance per unit time of the process $X_t$ by $V_t$.  Then\n",
    "\n",
    "$$\n",
    "V_t\\,dt = \\var[dJ_t^+ - dJ_t^-] \n",
    "= \\lambda_t\\,\\left\\{v^+ + v^-\\right\\} \\,dt\n",
    "=:  \\lambda_t\\,v_J\\,dt,\n",
    "$$\n",
    "\n",
    "where \n",
    "$$\n",
    "v^\\pm = \\int_{\\Rplus}\\,x^2\\,\\zeta_\\pm(dx) - m_\\pm^2\n",
    "$$\n",
    "\n",
    "are the variance of positive and negative jump sizes respectively.\n",
    "\n",
    "Continuing the analogy with stochastic volatility, $\\xi_t(u)$ is linked to $V_t$ by\n",
    "<p>\n",
    "$$\n",
    "\\begin{equation}\n",
    "\\xi_t(u) = \\eet{V_u}.\n",
    "\\end{equation}\n",
    "$$"
   ]
  },
  {
   "cell_type": "markdown",
   "metadata": {
    "slideshow": {
     "slide_type": "slide"
    }
   },
   "source": [
    "Setting \n",
    "$$\n",
    "\\begin{equation}\n",
    "J_t^X = J_t^+ - J_t^-, \\qquad \n",
    "\\wt{J}_t^v = {\\gamma^+} \\wt{J}_t^+ + {\\gamma^-} \\wt{J}_t^-,\n",
    "\\end{equation}\n",
    "$$\n",
    "\n",
    "the affine forward intensity (AFI) model may be rewritten as\n",
    "\n",
    "$$\n",
    "\\bea \n",
    "dX_t &= -\\lambda_{t} m_X dt + dJ_t^X,\\nonumber\\\\\n",
    "d\\xi_t(T) &=  \\kappa(T-t) d\\wt{J}^v_t.\n",
    "\\eea\n",
    "$$"
   ]
  },
  {
   "cell_type": "markdown",
   "metadata": {
    "slideshow": {
     "slide_type": "slide"
    }
   },
   "source": [
    "### High-frequency limit of the AFI model\n",
    "\n",
    "Consider new processes $J^\\epsilon$ such that \n",
    "\n",
    "$$\n",
    "\\lambda^\\epsilon = \\frac 1 \\epsilon \\,\\lambda; \\quad \\zeta^\\epsilon(dx) = \\zeta\\left(\\frac{dx}{\\sqrt{\\epsilon}}\\right).\n",
    "$$\n",
    "\n",
    "Thus in the limit $\\epsilon \\to 0$, \n",
    "- jump sizes are very small and jumps are very frequent.  \n",
    "- the martingale component of $dX_t$ may be approximated by $\\sqrt{V_t}\\,dZ_t$\n",
    "- $d\\wt{J}^v_t$ may be approximated by $dY_t$ for some diffusion process $Y$."
   ]
  },
  {
   "cell_type": "markdown",
   "metadata": {
    "slideshow": {
     "slide_type": "slide"
    }
   },
   "source": [
    "### High frequency limit of the AFI model\n",
    "\n",
    "\n",
    "In the limit, we obtain\n",
    "$$\n",
    "\\beas\n",
    "dX_t &=& -\\frac 12\\,V_t\\, dt + \\sqrt{V_t}\\,dZ_t,\\\\\n",
    "d\\xi_t(T)&=& \\kappa(T-t) \\,dY_t,\n",
    "\\eeas\n",
    "$$\n",
    "\n",
    "where\n",
    "$$\n",
    "\\var[dY_t] = \\var[d\\tilde  J^V_t] = \\lambda_t\\,\\left[{\\gamma^+}^2\\,v^+ +\n",
    "{\\gamma^-}^2\\,v^-\\right]\\,dt\\\\ =V_t\\,\\left[\\frac{{\\gamma^+}^2\\,v^+ +\n",
    "{\\gamma^-}^2\\,v^-}{v^+  + v^-}\\right]\\,dt.\n",
    "$$"
   ]
  },
  {
   "cell_type": "markdown",
   "metadata": {
    "slideshow": {
     "slide_type": "subslide"
    }
   },
   "source": [
    "Then\n",
    "\n",
    "$$\n",
    "d\\xi_t(T)= \\eta\\,\\kappa(T-t) \\,\\sqrt{V_t}\\,dW_t\n",
    "$$\n",
    "where\n",
    "$$\n",
    "\\eta^2  = \\frac{{\\gamma^+}^2\\,v^+ +\n",
    "{\\gamma^-}^2\\,v^-}{v^+  + v^-}.\n",
    "$$"
   ]
  },
  {
   "cell_type": "markdown",
   "metadata": {
    "slideshow": {
     "slide_type": "subslide"
    }
   },
   "source": [
    "As for the correlation between $dZ_t$ and $dW_t$, we first compute\n",
    "\n",
    "$$\n",
    "\\ee{dJ^+_t\\,d\\tilde J^+_t} = \\lambda_t\\,v^+\\,dt; \\quad \\ee{dJ^-_t\\,d\\tilde J^-_t} = \\lambda_t\\,v^-\\,dt\n",
    "$$\n",
    "\n",
    "so \n",
    "$$\n",
    "\\ee{dX_t\\,d\\tilde J^v_t}  =\\lambda_t\\,(\\gamma^+\\,v^+ -\\gamma^-\\,v^-)\\,dt\\\\\n",
    "=  \\ee{\\sqrt{V_t}\\,dZ_t\\,\\eta\\,\\sqrt{V_t}\\,dW_t} =:\\rho\\,\\eta\\,V_t\\,dt,\n",
    "$$\n",
    "where\n",
    "\n",
    "$$\n",
    "\\beas\n",
    "\\rho %&=& \\frac{\\lambda_t\\,\\left(\\gamma^+\\,v^+ -\\gamma^-\\,v^-\\right)}{\\eta\\,v_t}\\\\\n",
    "%&=&\\frac{\\gamma^+\\,v^+ -\\gamma^-\\,v^-}{\\eta\\,v_J}\\\\\n",
    "%&=& \\frac{\\gamma^+\\,v^+ -\\gamma^-\\,v^-}{v^+ + v^-}\\,\\sqrt{ \\frac{v^+  + v^-}{{\\gamma^+}^2\\,v^+ +\n",
    "%{\\gamma^-}^2\\,v^-}} \\\\\n",
    "&=& \\frac{1}{\\sqrt{v^+ + v^-}}\\, \\frac{\\gamma^+\\,v^+ -\\gamma^-\\,v^-}{\\sqrt{{\\gamma^+}^2\\,v^+ +\n",
    "{\\gamma^-}^2\\,v^-}}.\n",
    "\\eeas\n",
    "$$"
   ]
  },
  {
   "cell_type": "markdown",
   "metadata": {
    "slideshow": {
     "slide_type": "slide"
    }
   },
   "source": [
    "### Example: The bivariate Hawkes process of of Jaisson and Rosenbaum\n",
    "\n",
    "Consider the case of a bivariate Hawkes process $(J^+, J^-)$ with unit jump size (i.e., $\\zeta_\\pm(dx) = \\delta_1(dx))$.  Then in the above limit, as $\\epsilon \\to 0$, the process converges to\n",
    "$$\n",
    "\\beas\n",
    "dX_t &=& -\\frac 12\\,V_t\\, dt + \\sqrt{V_t}\\,dZ_t,\\\\\n",
    "d\\xi_t(T)&=& \\eta\\,\\sqrt{V_t}\\,\\kappa(T-t) \\,dW_t,\n",
    "\\eeas\n",
    "$$\n",
    "<p>\n",
    "where $d\\angl{Z,W}_t= \\rho\\,dt$ and \n",
    "<p>\n",
    "$$\n",
    "\\eta^2 = \\frac 12 \\left[{\\gamma^+}^2 +{\\gamma^-}^2\\right];\n",
    "\\quad \\rho = \\frac{\\gamma^+ -\\gamma^-}{\\sqrt{2\\,\\left({\\gamma^+}^2 +\n",
    "{\\gamma^-}^2\\right)}}.\n",
    "$$\n",
    "\n"
   ]
  },
  {
   "cell_type": "markdown",
   "metadata": {
    "slideshow": {
     "slide_type": "slide"
    }
   },
   "source": [
    "### Near instability of Hawkes kernel in the limit\n",
    "\n",
    "- So far, we have shown how AFV models arise naturally as limits of AFI models.\n",
    "\n",
    "\n",
    "- Now we show that in order to get stochastic (as opposed to constant) volatility, the AFI model Hawkes process needs to be nearly unstable."
   ]
  },
  {
   "cell_type": "markdown",
   "metadata": {
    "slideshow": {
     "slide_type": "subslide"
    }
   },
   "source": [
    "Consider the (generalized) Hawkes process\n",
    "\n",
    "$$\n",
    "\\begin{align*}\n",
    "\\lambda_t &= \\mu + \\int_0^t\\,\\varphi(t-s)\\,dJ^v_s \\\\&=  \\mu + \\hat \\gamma\\,\\int_0^t\\,\\varphi(t-s)\\,\\lambda_s\\,ds+ \\int_0^t\\,\\varphi(t-s)\\,d\\tilde J^v_s\n",
    "\\end{align*}\n",
    "$$\n",
    "where $\\hat \\gamma =  {\\gamma^+} m_+ + {\\gamma^-} m_-$.  \n",
    "\n",
    "Following <span>[Bacry et al.]<sup id=\"cite_ref-BMM\" class=\"reference\"><a href=\"#cite_note-BMM\"><span>[2]</span></a></sup>, we rewrite this last equation symbolically as\n",
    "\n",
    "$$\n",
    "\\lambda = \\mu + \\hat \\gamma\\,(\\varphi \\star\\lambda) + \\varphi \\star d\\tilde J^v.\n",
    "$$"
   ]
  },
  {
   "cell_type": "markdown",
   "metadata": {
    "slideshow": {
     "slide_type": "subslide"
    }
   },
   "source": [
    "Rearranging gives\n",
    "\n",
    "$$\n",
    "(1- \\hat \\gamma\\,\\varphi \\star) \\lambda = \\mu + \\varphi \\star d\\tilde J^v\n",
    "$$\n",
    "<p>\n",
    "and applying the Laplace transform gives\n",
    "<p>\n",
    "$$\n",
    "(1- \\hat \\gamma\\,\\hat \\varphi ) \\hat \\lambda  = \\hat \\mu + \\hat \\varphi \\,\\widehat {d \\tilde J^v}.\n",
    "$$\n",
    "<p>\n",
    "which may be rearranged as\n",
    "<p>\n",
    "$$\n",
    "\\hat \\lambda = \\hat \\mu + \\hat \\psi\\,\\hat \\mu + \\frac{1}{\\hat \\gamma}\\,\\hat \\psi \\,\\widehat {\\tilde J^v}\n",
    "$$\n",
    "where\n",
    "$$\n",
    "\\hat \\psi = \\frac{\\hat \\gamma \\hat \\varphi}{1- \\hat \\gamma\\,\\hat \\varphi }.\n",
    "$$"
   ]
  },
  {
   "cell_type": "markdown",
   "metadata": {
    "slideshow": {
     "slide_type": "subslide"
    }
   },
   "source": [
    "Then \n",
    "\n",
    "$$\n",
    "v_J\\, \\hat \\lambda = v_J\\,\\hat \\mu +\\hat \\gamma\\,\\hat \\kappa\\,\\hat \\mu + \\hat \\kappa \\,\\widehat {\\tilde J^v}\n",
    "$$\n",
    "\n",
    "where \n",
    "\n",
    "$$\n",
    "\\hat \\kappa = \\frac{v_J}{\\hat \\gamma}\\,\\hat \\psi =\\frac{v_J \\hat \\varphi}{1-\\hat \\gamma\\,\\hat \\varphi}.\n",
    "$$\n",
    "\n",
    "Inverting the Laplace transform,  and recalling that $V_t = v_J\\,\\lambda_t$, we obtain\n",
    "\n",
    "$$\n",
    "V_u=  v_J\\,\\mu + \\hat \\gamma\\,\\mu\\,\\int_0^u\\,\\kappa(u-s)\\,ds+ \\int_0^u\\,\\kappa(u-s)\\,d\\tilde J^v_s.\n",
    "$$"
   ]
  },
  {
   "cell_type": "markdown",
   "metadata": {
    "slideshow": {
     "slide_type": "subslide"
    }
   },
   "source": [
    "Computing the conditional expectation wrt $\\cF_t$, \n",
    "\n",
    "$$\n",
    "\\begin{align*}\n",
    "\\xi_t(u) &=  \\eet{V_u}\\\\&=  v_J\\,\\mu +\\hat \\gamma\\, \\mu\\,\\int_0^u\\,\\kappa(u-s)\\,ds+ \\eta\\,\\int_0^t\\,\\kappa(u-s)\\,\\sqrt{V_s}\\,dW_s\n",
    "\\end{align*}\n",
    "$$\n",
    "and so \n",
    "$\n",
    "d\\xi_t(u) = \\kappa(u-t)\\,d\\tilde J^v_t\n",
    "$, the dynamics of an AFI model."
   ]
  },
  {
   "cell_type": "markdown",
   "metadata": {
    "slideshow": {
     "slide_type": "subslide"
    }
   },
   "source": [
    "Now\n",
    "\n",
    "$$\n",
    "\\hat \\kappa =\\frac{v_J \\hat \\varphi}{1-\\hat \\gamma\\,\\hat \\varphi} \\implies\n",
    "\\hat \\varphi = \\frac{\\hat \\kappa}{v_J +\\hat \\gamma\\,\\hat \\kappa}.\n",
    "$$\n",
    "\n",
    "Recall that the kernel of our generalized Hawkes process is $\\hat \\gamma\\,\\hat \\varphi$.  The stability condition is then\n",
    "\n",
    "$$\n",
    "\\hat \\gamma \\int_{\\Rplus} \\varphi(\\tau)\\,d\\tau = \\hat \\gamma\\,\\hat \\varphi(0) = \\frac{\\hat \\gamma\\,\\hat \\kappa}{v_J +\\hat \\gamma\\,\\hat \\kappa} \\to 1 \\text{ as } \\epsilon \\to 0\n",
    "$$\n",
    "\n",
    "since in that limit, $v_J \\sim \\epsilon$ and $\\hat \\gamma \\sim \\sqrt{\\epsilon}$.  \n",
    "\n",
    "Conversely, $ \\hat \\gamma\\,\\hat \\varphi(0) \\to a < 1$ as $\\epsilon \\to 0$ only if $\\kappa \\sim \\sqrt{\\epsilon}$.  Then in the limit, $\\kappa \\to 0$ and volatility is deterministic."
   ]
  },
  {
   "cell_type": "markdown",
   "metadata": {
    "slideshow": {
     "slide_type": "subslide"
    }
   },
   "source": [
    "<blockquote><div style=\"background-color:#add8e6; color:darkgreen; font-style: normal;  \" ><h4>\n",
    "Near instability</h4>\n",
    "</div>\n",
    "<div style=\"background-color:#E8E8E8; color:#000000; font-style: normal; \">\n",
    "<br>\n",
    "    The high frequency limit of the AFI model is a non-trivial AFV model if and only if the Hawkes process is nearly unstable.\n",
    "<br>\n",
    "<br>\n",
    "\n",
    "</div>\n",
    "\n",
    "</blockquote>\n"
   ]
  },
  {
   "cell_type": "markdown",
   "metadata": {
    "slideshow": {
     "slide_type": "slide"
    }
   },
   "source": [
    "### Affine processes\n",
    "\n",
    "The following explanation is due to Martin Keller-Ressel:\n",
    "\n",
    ">An *affine process* can be described as a Markov process whose log-characteristic function is an affine \n",
    "function of its initial state vector.\n",
    "\n",
    "\n",
    "And here's a definition of the word *affine* from Wikipedia:\n",
    "\n",
    " \n",
    "\n",
    ">In geometry, an affine transformation or affine map or an affinity (from the Latin, *affinis*, \"connected with\") between two vector spaces (strictly speaking, two affine spaces) consists of a linear transformation followed by a translation:\n",
    "$$\n",
    "x \\mapsto A\\,x+b\n",
    "$$\n",
    "\n"
   ]
  },
  {
   "cell_type": "markdown",
   "metadata": {
    "slideshow": {
     "slide_type": "slide"
    }
   },
   "source": [
    "### Affine CGF\n",
    "\n",
    "Let $X_t = \\log S_t$.  According to Definition 2.2 of [Gatheral and Keller-Ressel]<sup id=\"cite_ref-AFV\" class=\"reference\"><a href=\"#cite_note-AFV\"><span>[</span>9<span>]</span></a></sup>, a forward variance model has an *affine cumulant generating function* determined by $g(t;u)$, if its conditional cumulant generating function is of the form \n",
    "\n",
    "\n",
    "$$\n",
    "\\log \\eet{e^{u(X_T - X_t)}} = \\int_t^T g(T-s;u)\\, \\xi_t(s)ds.\n",
    "$$\n",
    "\n",
    "for all $u \\in [0,1]$, $0 \\le t \\le T$ and $g(.;u)$ is $\\Rminus$-valued and continuous on $[0,T]$ for all $T > 0$ and $u \\in [0,1]$.\n",
    "\n",
    "- The restriction $u \\in [0,1]$ is for mathematical convenience.  We will later allow complex $u$."
   ]
  },
  {
   "cell_type": "markdown",
   "metadata": {
    "slideshow": {
     "slide_type": "slide"
    }
   },
   "source": [
    "### When is a forward variance model affine?\n",
    "\n",
    "Theorem 2.4 of [Gatheral and Keller-Ressel]<sup id=\"cite_ref-AFV\" class=\"reference\"><a href=\"#cite_note-AFV\"><span>[</span>10<span>]</span></a></sup> states that a forward variance model has an affine CGF if and only if it takes the form\n",
    "\n",
    "$$\n",
    "\\beas\n",
    "\\frac{dS_t}{S_t} &=& \\sqrt{V_t}\\,dZ_t\\\\\n",
    "d\\xi_t(u) &=& \\sqrt{V_t}\\, \\kappa(u-t)\\,dW_t\n",
    "\\eeas\n",
    "$$\n",
    "\n",
    "for some deterministic, non-negative decreasing kernel $\\kappa$, which satisfies $\\int_0^T \\kappa(r) dr < \\infty$ for all $T > 0$."
   ]
  },
  {
   "cell_type": "markdown",
   "metadata": {
    "slideshow": {
     "slide_type": "subslide"
    }
   },
   "source": [
    "Moreover, $g(.;u): \\Rplus \\to \\Rminus$ in the definition [(1)](#eq:affineCGF) of the CGF is the unique global continuous solution of the convolution Riccati equation\n",
    "\n",
    "$$\n",
    "g = \\frac{1}{2}(u^2 - u)  +   \\rho\\, u\\, (\\kappa \\star g)  + \\frac{1}{2}\\, (\\kappa \\star g)^2.\n",
    "$$\n",
    "\n",
    "where we have dropped the arguments for clarity.\n",
    "    \n",
    "   - That is, $g = g(\\tau;u)$ and $(\\kappa \\star g)=(\\kappa \\star g)(\\tau;u)$\n"
   ]
  },
  {
   "cell_type": "markdown",
   "metadata": {
    "slideshow": {
     "slide_type": "slide"
    }
   },
   "source": [
    "### Derivation of the Riccati equation\n",
    "\n",
    "From the definition of the CGF, \n",
    "\n",
    "\n",
    "$$\n",
    "M_t = \\eet{e^{u\\,X_T}} = \\exp\\left\\{u\\,X_t + \\int_t^T\\,\\xi_t(s)\\,g(T-s;u)\\,ds \\right\\} =: \\exp\\left\\{u\\,X_t + G_t \\right\\}\n",
    "$$\n",
    "\n",
    "is a conditional expectation and thus a martingale in $t$."
   ]
  },
  {
   "cell_type": "markdown",
   "metadata": {
    "slideshow": {
     "slide_type": "subslide"
    }
   },
   "source": [
    "Applying Itô's Lemma to $M$ gives\n",
    "\n",
    "$$\n",
    "\\frac{d M_t}{M_t} = u\\,dX_t + dG_t + \\frac{u^2}2\\,d\\angl{X}_t + \\frac12\\,d\\angl{G}_t +u\\,d\\angl{X,G}_t.\n",
    "$$\n",
    "\n",
    "Now\n",
    "\n",
    "$$\n",
    "\\beas\n",
    "dX_t &=& -\\frac 12 \\,V_t\\,dt + \\sqrt{V_t}\\,dZ_t\\\\\n",
    "dG_t &=& -\\xi_t(t)\\,g(T-t;u)\\,dt + \\int_t^T\\,d\\xi_t(s)\\,g(T-s;u)\\,ds\\\\\n",
    " &=& -V_t\\,g(T-t;u)\\,dt + \\int_t^T\\,\\kappa(s-t)\\,\\sqrt{V_t}\\,dW_t\\,g(T-s;u)\\,ds.\n",
    "\\eeas\n",
    "$$"
   ]
  },
  {
   "cell_type": "markdown",
   "metadata": {
    "slideshow": {
     "slide_type": "subslide"
    }
   },
   "source": [
    "We compute\n",
    "\n",
    "$$\n",
    "\\beas\n",
    "d\\angl{X}_t &=& V_t\\,dt\\\\\n",
    "d\\angl{G}_t &=& V_t\\,dt\\, \\left( \\int_t^T\\,\\kappa(s-t)\\,g(T-s;u)\\,ds \\right)^2\\\\\n",
    "d\\angl{X,G}_t &=& \\rho\\,V_t\\, dt\\,\\int_t^T\\,\\kappa(s-t)\\,g(T-s;u)\\,ds.\n",
    "\\eeas\n",
    "$$"
   ]
  },
  {
   "cell_type": "markdown",
   "metadata": {
    "slideshow": {
     "slide_type": "subslide"
    }
   },
   "source": [
    "Imposing $\\ee{dM_t}=0$ and letting $\\tau = T-t$ gives\n",
    "\n",
    "$$\n",
    "0 = V_t\\,dt\\,\\left\\{-\\frac 12\\,u +\\frac12\\,u^2 -g(\\tau;u)\n",
    "+\\rho\\,u\\,(\\kappa \\star g) (\\tau;u) + \\frac12\\,(\\kappa \\star g) (\\tau;u)^2\n",
    "\\right\\}\n",
    "$$\n",
    "\n",
    "where the convolution integral is given by\n",
    "\n",
    "$$\n",
    "(\\kappa \\star g) (\\tau;u) = \\int_0^\\tau\\,\\kappa(\\tau - s)\\,g(s;u)\\,ds.\n",
    "$$\n",
    "\n",
    "- It is almost obvious why the CGF is affine if an only if the forward variance process is of the form $d\\xi_t(u) = \\sqrt{V_t}\\, \\kappa(u-t)\\,dW_t$."
   ]
  },
  {
   "cell_type": "markdown",
   "metadata": {
    "slideshow": {
     "slide_type": "subslide"
    }
   },
   "source": [
    "### The convolution Riccati equation\n",
    "\n",
    "Rearranging gives \n",
    "\n",
    "$$\n",
    "g(\\tau;u) =  \\frac 12\\,u(u-1) + \\rho \\,u\\, (\\kappa \\star g) (\\tau;u) + \\frac 12\\, (\\kappa \\star g) (\\tau;u)^2 ,\n",
    "$$\n",
    "\n",
    "as required."
   ]
  },
  {
   "cell_type": "markdown",
   "metadata": {
    "slideshow": {
     "slide_type": "slide"
    }
   },
   "source": [
    "### Example: The rough Heston model (with $\\lambda=0$)\n",
    "\n",
    "In this case, with $\\alpha=H+\\frac12$,\n",
    "$\n",
    "\\kappa(\\tau) =\\frac{\\eta}{\\Gamma(\\alpha)} \\,\\tau^{\\alpha-1}\n",
    "$\n",
    "and\n",
    "\n",
    "$$\n",
    "\\eta\\,h(\\tau;u):=(\\kappa \\star g)(\\tau;u) =  \\frac{\\eta}{\\Gamma(\\alpha)} \\int_0^\\tau\\,(\\tau-s)^{\\alpha-1}\\,g(s;u)\\,ds \\\\= \\eta\\,I^\\alpha g(\\tau;u).\n",
    "$$\n",
    "\n",
    "Inverting this gives\n",
    "$\n",
    "g(\\tau;u) =D^\\alpha h(\\tau; u).\n",
    "$\n",
    "\n",
    "The convolution integral Riccati equation then reads\n",
    "\n",
    "$$\n",
    "D^\\alpha h(\\tau;u) =  \\frac 12\\,u\\,(u-1) + \\rho\\,\\eta\\, u\\, h (\\tau;u) + \\frac 12\\,\\eta^2\\, h(\\tau;u)^2,\n",
    "$$\n",
    "\n",
    "consistent with [El Euch and Rosenbaum]<sup id=\"cite_ref-EER\" class=\"reference\"><a href=\"#cite_note-EER\"><span>[</span>4<span>]</span></a></sup>."
   ]
  },
  {
   "cell_type": "markdown",
   "metadata": {
    "slideshow": {
     "slide_type": "slide"
    }
   },
   "source": [
    "### An aside: Fractional calculus\n",
    "\n",
    "Define the fractional integral and differential operators:\n",
    "\n",
    "$$\n",
    "I^{\\alpha} f(t) = \\frac{1}{\\Gamma(\\alpha)}\\,\\int_0^t\\,(t-s)^{\\alpha-1}\\,f(s)\\,ds;\\quad D^\\alpha f(t) = \\frac{d}{dt}\\,I^{1-\\alpha} f(t).\n",
    "$$\n",
    "\n",
    "The fractional integral is a natural generalization of the ordinary integral using the Cauchy formula for repeated integration:\n",
    "\n",
    "$$\n",
    "\\beas\n",
    "I^{n} f(t) &:=& \\int_0^t dt_1\\int_0^{t_1}...dt_{n-1}\\int_0^{t_{n-1}}f(t_n)\\,dt_n\\\\\n",
    "&=&\\frac{1}{(n-1)!}\\,\\int_0^t\\, (t-s)^{n-1}\\,f(s)\\,ds.\n",
    "\\eeas\n",
    "$$\n",
    "\n"
   ]
  },
  {
   "cell_type": "markdown",
   "metadata": {
    "slideshow": {
     "slide_type": "subslide"
    }
   },
   "source": [
    "#### The induction step\n",
    "\n",
    "$$\n",
    "\\beas\n",
    "I^{n+1} f(t) &:=& \\int_0^{t} \\,I^{n} f(s)\\,ds\\\\\n",
    "&=&\\frac{1}{(n-1)!}\\,\\int_0^t\\,ds\\,\\int_0^s\\, (s-r)^{n-1}\\,f(r)\\,dr\\\\\n",
    "&=&\\frac{1}{(n-1)!}\\,\\int_0^t\\,f(r)\\,dr\\int_r^t\\,(s-r)^{n-1}\\, ds\\\\\n",
    "&=& \\frac1{n!}\\,\\int_0^t\\,(t-r)^{n}\\,f(r)\\,dr.\n",
    "\\eeas\n",
    "$$\n",
    "\n"
   ]
  },
  {
   "cell_type": "markdown",
   "metadata": {
    "slideshow": {
     "slide_type": "slide"
    }
   },
   "source": [
    "### Characteristic function methods\n",
    "\n",
    "- The primary reason that affine models are popular, is that they have easy to compute characteristic functions.\n",
    "\n",
    "\n",
    "\n",
    "- Given the characteristic function, many computations become much easer."
   ]
  },
  {
   "cell_type": "markdown",
   "metadata": {
    "slideshow": {
     "slide_type": "slide"
    }
   },
   "source": [
    "### Computing option prices from the characteristic function\n",
    "\n",
    "[Lewis]<sup id=\"cite_ref-Lewis\" class=\"reference\"><a href=\"#cite_note-Lewis\"><span>[</span>11<span>]</span></a></sup> originally derived the following formula, which is a special (but most useful) case of [Carr and Madan]<sup id=\"cite_ref-CarrMadan\" class=\"reference\"><a href=\"#cite_note-CarrMadan\"><span>[</span>3<span>]</span></a></sup>. \n",
    "\n",
    "<blockquote><div style=\"background-color:#add8e6; color:darkgreen; font-style: normal;  \" ><h4>\n",
    "Formula (2.10) of Lewis</h4>\n",
    "</div>\n",
    "<div style=\"background-color:#E8E8E8; color:#000000; font-style: normal; \">\n",
    "<br>\n",
    "$$\n",
    "C_t(S,K,T)=S-\\sqrt{SK}\\frac{1}{\\pi}\\int_0^\\infty\\frac{du}{u^2+\\frac{1}{4}}\n",
    "\\,\\mathrm{Re}\\left[e^{-iuk}\\varphi_t\\left(T;u-i/2\\right)\\right]\n",
    "$$\n",
    "<br>\n",
    "<br>\n",
    "\n",
    "</div>\n",
    "\n",
    "</blockquote>\n",
    "\n",
    "\n",
    "with $k=\\log\\left(\\frac{K}{S}\\right)$. "
   ]
  },
  {
   "cell_type": "markdown",
   "metadata": {
    "slideshow": {
     "slide_type": "slide"
    }
   },
   "source": [
    "### Another way to compute implied volatility\n",
    "\n",
    "The Lewis formula allows us to derive an elegant implicit expression\n",
    "for the Black-Scholes implied volatility of an option in any model for\n",
    "which the characteristic function is known.\n",
    "\n",
    "Substituting the characteristic function for the Black-Scholes process\n",
    "into the Lewis formula gives\n",
    "\n",
    "$$\n",
    "C_{BS}(S,K,\\tau)=S-\\sqrt{SK}\\frac{1}{\\pi}\\int_0^\\infty\\frac{du}{u^2+\\frac{1}{4}}\n",
    "\\,\\mathrm{Re}\\left[e^{-iuk}e^{-\\frac{1}{2}\\left(u^2+\\frac{1}{4}\\right)\\sigma_{BS}^2\n",
    "\\tau }\\right]\n",
    "$$\n",
    "with $\\tau=T-t$."
   ]
  },
  {
   "cell_type": "markdown",
   "metadata": {
    "slideshow": {
     "slide_type": "subslide"
    }
   },
   "source": [
    "Then, from the definition of implied volatility, wlog setting $t=0$, we must have\n",
    "\n",
    "<a name=\"eq:ImpliedFromFourier\"></a>(1)\n",
    "$$\n",
    " \\int_0^\\infty\\frac{du}{u^2+\\frac{1}{4}}\n",
    "\\,\\mathrm{Re}\\left[e^{-iuk}\\left(\\varphi\\left(T;u-i/2\\right)-e^{-\\frac{1}{2}\\left(u^2+\\frac{1}{4}\\right)\\Sigma(k,T) }\\right)\\right]=0,\n",
    "$$\n",
    "\n",
    "where we have defined the implied total variance $\\Sigma(k,T) = \\sigma_{\\BS}(k,T)^2\\,T$."
   ]
  },
  {
   "cell_type": "markdown",
   "metadata": {
    "slideshow": {
     "slide_type": "subslide"
    }
   },
   "source": [
    "\n",
    "* Equation [(1)](#eq:ImpliedFromFourier) gives us a simple but implicit relationship between the implied volatility surface and the characteristic function of the underlying stock process.\n",
    "\n",
    "    * We may efficiently compute the structure of at-the-money implied volatility and the at-the-money volatility skew in terms of the characteristic function (at least numerically) without having to explicitly compute option prices.\n",
    "\n",
    "\n",
    "* In practice, computing the option price and numerically inverting the Black-Scholes formula to get the implied volatility is faster."
   ]
  },
  {
   "cell_type": "markdown",
   "metadata": {
    "slideshow": {
     "slide_type": "slide"
    }
   },
   "source": [
    "### Computing the at-the-money volatility skew\n",
    "\n",
    "Following [The Volatility Surface]<sup id=\"cite_ref-TVS\" class=\"reference\"><a href=\"#cite_note-TVS\"><span>[8]</span></a></sup>, differentiating\n",
    "[(1)](#eq:ImpliedFromFourier) with respect to k and evaluating at $k=0$\n",
    "gives \n",
    "\n",
    "$$\n",
    "\\int_0^\\infty\\,du \\, \\left\\{ \\frac{u\\,\n",
    "\\mathrm{Im}\\left[\\varphi(T;u-i/2) \\right]}{u^2+\\frac{1}{4}}\n",
    "+\\frac{1}{2}\\,\\left.\\frac{\\partial \\Sigma(k,T) }{\\partial k\n",
    "}\\right|_{k=0}\\,e^{-\\frac{1}{2}\\left(u^2+\\frac{1}{4}\\right)\\,\\Sigma(0,\n",
    "T)}\\right\\}=0\n",
    "$$\n",
    "\n",
    "Integrating the second term explicitly we get\n",
    "\n",
    "$$\n",
    "\\cS(T) :=\\left.\\frac{\\partial \\sigma_{BS} }{\\partial k }\\right|_{k=0}=-\n",
    "e^{\\tfrac18\\,\\sigma_{BS}^2\\,T} \\sqrt{\\frac{2}{ \\pi}}\\frac{1}{\n",
    "\\sqrt{T}}\\,\\int_0^\\infty\\,du \\, \\frac{u\\,\n",
    "\\mathrm{Im}\\left[\\varphi(T;u-i/2)\\right]}\n",
    "{u^2+\\frac{1}{4}}\n",
    "$$"
   ]
  },
  {
   "cell_type": "markdown",
   "metadata": {
    "slideshow": {
     "slide_type": "slide"
    }
   },
   "source": [
    "### Example: Black-Scholes\n",
    "\n",
    "In the Black-Scholes case, \n",
    "\n",
    "$$\\mathrm{Im}\\left[\\varphi(T;u-i/2)\\right]\n",
    "=\\mathrm{Im}\\left[e^{-\\frac{1}{2}\\left(u^2+1/4\\right)\\,\\sigma^2 T\n",
    "}\\right]=0$$ \n",
    "\n",
    "Then \n",
    "\n",
    "$$\\cS(T)=\\left.\\frac{\\partial \\sigma_{BS}(k,T) }{\\partial k\n",
    "}\\right|_{k=0}=0 \\ \\ \\forall T>0.$$"
   ]
  },
  {
   "cell_type": "markdown",
   "metadata": {
    "slideshow": {
     "slide_type": "slide"
    }
   },
   "source": [
    "### The skew-stickiness ratio (SSR)\n",
    "\n",
    "- Denote the Black-Scholes implied volatility of an option by $\\sigma_{\\BS,t}(k,T)$\n",
    "\n",
    "\n",
    "\n",
    "- Market makers, when updating option prices using the Black-Scholes formula, typically consider two effects.\n",
    "\n",
    "    - First, the explicit spot effect\n",
    "<p>\n",
    "$$\\frac{\\partial C_{\\BS,t}}{\\partial S_t}\\,\\delta S_t,$$\n",
    "<p>\n",
    "    - Second, the change in implied volatility conditional on a change in the spot\n",
    "<p><p>\n",
    "$$\n",
    "\\frac{\\partial C_{\\BS,t}}{\\partial \\sigma_{\\BS}}\\,\\E \\left[{\\delta \\sigma_{\\BS,t} | \\delta S_t}\\right].\n",
    "$$\n"
   ]
  },
  {
   "cell_type": "markdown",
   "metadata": {
    "slideshow": {
     "slide_type": "subslide"
    }
   },
   "source": [
    "- Market makers can estimate this using a simple regression:\n",
    "<p>\n",
    "$$\n",
    "\\delta \\sigma_t(T) =  \\beta_t(T)\\,\\frac{\\delta S_t}{S_t} + \\text{noise}=: \\beta_t(T)\\,\\delta X_t + \\text{noise}.\n",
    "$$\n",
    "\n",
    "- As before, we define the ATM volatility skew\n",
    "$$\n",
    "\\cS_t(T) = \\left. \\frac{\\partial}{\\partial k} \\sigma_{\\BS,t}(k,T) \\right|_{k=0}.\n",
    "$$\n",
    "\n",
    "    \n",
    "- Lorenzo Bergomi calls \n",
    "\\begin{equation} \\label{eq:SSR}\n",
    "\\mathcal{R}_t(T) = \\frac{\\beta_t(T)}{\\cS_t(T)}.\n",
    "\\end{equation}\n",
    "the *skew-stickiness ratio* or *SSR*. "
   ]
  },
  {
   "cell_type": "markdown",
   "metadata": {
    "slideshow": {
     "slide_type": "subslide"
    }
   },
   "source": [
    "### The SSR in terms of the characteristic function\n",
    "\n",
    "In [Friz and Gatheral]<sup id=\"cite_ref-FG\" class=\"reference\"><a href=\"#cite_note-FG\"><span>[6]</span></a></sup>, we show that  the SSR $\\cR_t(T)$ has the following representation in terms of the characteristic function.\n",
    "\n",
    "Let $\\psi= \\log \\varphi$.  Then\n",
    "\\begin{equation}\n",
    "\\cR_t(T) =-\\frac{\\int_{\\R^+}\\,\\frac{da}{a^2+\\tfrac14}\\,\\Re\\left[\\rho\\,D^\\xi_t \\psi_t(T;a-\\ui/2)\\,\\exp\\left\\{\\psi_t(T;a-\\ui/2)\\right\\}\\right]}\n",
    "{\\int_{\\R^+}\\,\\frac{a\\,da}{a^2+1/4}\\,\\Im\\left[\\exp\\left\\{\\psi_t(T;a-\\ui/2)\\right\\}\\right]}.\n",
    "\\label{eq:RCh}\n",
    "\\end{equation}\n",
    "\n",
    "Here,  denoting the Fréchet derivative by $\\delta$,\n",
    "\\begin{align}\n",
    "D^\\xi_t := \\frac{1}{\\sqrt{V_t}}\\,\\int_t^T \\,du\\,f_t(\\xi)\\,\\kappa(u-t)\\,\\frac{\\delta }{\\delta \\xi_t(u)},\n",
    "\\label{eq:DxiDef}\n",
    "\\end{align}\n"
   ]
  },
  {
   "cell_type": "markdown",
   "metadata": {
    "slideshow": {
     "slide_type": "slide"
    }
   },
   "source": [
    "### Sensitivity of the rough Heston SSR to model dynamics\n",
    "\n",
    "- The rough Heston kernel takes the form\n",
    "<p>\n",
    "$$\n",
    "\\kappa(\\tau) = \\nu\\,\\tau^{\\alpha-1}\\,E_{\\alpha,\\alpha}\\left(-\\lambda\\,\\tau^\\alpha\\right),\n",
    "$$\n",
    "    <p>\n",
    "where $E_{\\alpha,\\alpha}(\\cdot)$ is the Mittag-Leffler function and $\\alpha=H+\\tfrac12$. \n",
    "    \n",
    "    \n",
    "    \n",
    "- We choose three values of the parameter $\\lambda\\, (= 0,1,2)$.\n",
    "    - Then find values of $H$ and $\\nu$ such that the resulting parameter sets $\\Pi_0$, $\\Pi_1$ and $\\Pi_2$ generate the almost identical 1-month, 3-month, 6-month, and 12-month smiles."
   ]
  },
  {
   "cell_type": "markdown",
   "metadata": {
    "slideshow": {
     "slide_type": "slide"
    }
   },
   "source": [
    "<h3><img src=\"https://mfe.baruch.cuny.edu/wp-content/uploads/2024/10/FourSmiles3.png\" align = \"left\" width=1000></h3>"
   ]
  },
  {
   "cell_type": "markdown",
   "metadata": {
    "slideshow": {
     "slide_type": "fragment"
    }
   },
   "source": [
    "Figure 1. Almost identical rough Heston smiles generated by the parameter sets $\\Pi_0$, $\\Pi_1$, and $\\Pi_2$, in blue, red and green respectively."
   ]
  },
  {
   "cell_type": "markdown",
   "metadata": {
    "slideshow": {
     "slide_type": "slide"
    }
   },
   "source": [
    "<h3><img src=\"https://mfe.baruch.cuny.edu/wp-content/uploads/2024/10/SSR3.png\" align = \"left\" width=1000></h3>"
   ]
  },
  {
   "cell_type": "markdown",
   "metadata": {
    "slideshow": {
     "slide_type": "fragment"
    }
   },
   "source": [
    "Figure 2. The blue, red, and green SSR plots correspond to parameter sets $\\Pi_0$, $\\Pi_1$, and $\\Pi_2$ respectively."
   ]
  },
  {
   "cell_type": "markdown",
   "metadata": {},
   "source": [
    "### Diamond products and the forest expansion\n",
    "\n",
    "- The interest of the forest expansion is that the characteristic function may be expressed as a sum of forests of diamond trees.\n",
    "    - For amy model, in complete generality.\n",
    "\n"
   ]
  },
  {
   "cell_type": "markdown",
   "metadata": {
    "jp-MarkdownHeadingCollapsed": true,
    "slideshow": {
     "slide_type": "slide"
    },
    "tags": []
   },
   "source": [
    "### The diamond product\n",
    "\n",
    "Let $A_t$ and $B_t$ be continuous semimartingales.  Then\n",
    "\n",
    "$$\n",
    "(A \\dm B)_t(T) = \\eet{\\int_t^T d\\angl{A,B}_s}.\n",
    "$$\n",
    "\n",
    "- Note that $(A \\dm B)_t(T)$ is not in general a martingale in $t$ (for fixed $T$)."
   ]
  },
  {
   "cell_type": "markdown",
   "metadata": {
    "slideshow": {
     "slide_type": "subslide"
    }
   },
   "source": [
    "\n",
    "\n",
    "- Thus for example, with $X = \\log S$,\n",
    "<p>\n",
    "$$\n",
    "\\beas\n",
    "(X \\dm X)_t(T) &=&\\eet{\\int_t^T d\\angl{X,X}_u}\\\\&=& \\int_t^T \\,\\xi_t(u)\\,du \\\\&=& M_t(T).\n",
    "\\eeas\n",
    "$$\n",
    "<p>\n",
    "    \n",
    "\n",
    "    \n",
    "    "
   ]
  },
  {
   "cell_type": "markdown",
   "metadata": {
    "slideshow": {
     "slide_type": "subslide"
    }
   },
   "source": [
    "### Properties of the diamond product\n",
    "\n",
    "\n",
    "- Commutative: $A \\dm B = B \\dm A$.\n",
    "\n",
    "\n",
    "-  Non-associative: $(A \\dm B) \\dm C \\neq A \\dm (B  \\dm C)$.\n",
    "\n",
    "\n",
    "- $A \\dm B$ depends only on the respective martingale parts of $A$ and $B$.\n",
    "\n",
    "\n",
    "- $A \\dm B$ is in general not a martingale.\n",
    "\n",
    "\n",
    " \n",
    "    "
   ]
  },
  {
   "cell_type": "markdown",
   "metadata": {
    "slideshow": {
     "slide_type": "slide"
    }
   },
   "source": [
    "### Variance swap dynamics\n",
    "\n",
    "- As before\n",
    "$$\n",
    "(X \\dm X)_t(T) = M_t(T) = \\int_t^T \\,\\xi_t(u)\\,du,\n",
    "$$\n",
    "<p>\n",
    "where the $\\xi_t(u)$ are forward variances. \n",
    "\n",
    "\n",
    "\n",
    "- Thus \n",
    "$$\n",
    "\\begin{align*}\n",
    "d(X \\dm X)_t(T)&=dM_t(T) \\\\&= \\int_t^T \\,d\\xi_t(u)\\,du - \\xi_t(t)\\,dt\\\\&= \\int_t^T \\,d\\xi_t(u)\\,du - V_t\\,dt,\n",
    "\\end{align*}\n",
    "$$  <p>\n",
    "a specific example where a diamond product is not a martingale.\n",
    "      \n",
    "   - Financially, the variance contract gets seasoned, picking up the $V_t\\,dt$ term.  "
   ]
  },
  {
   "cell_type": "markdown",
   "metadata": {
    "slideshow": {
     "slide_type": "subslide"
    }
   },
   "source": [
    "\n",
    "### Products of products\n",
    "\n",
    "- We can easily make diamond products of diamond products:\n",
    "<p>\n",
    "<p>\n",
    "$$\n",
    "\\begin{align*}\n",
    "(X \\dm (X\\dm X))_t(T)&=(X \\dm M)_t(T) \\\\&=\\eet{\\int_t^T d\\angl{X,M}_s}\\\\\n",
    "((X\\dm X) \\dm (X\\dm X))_t(T)&=\\left( M \\dm M \\right)_t(T)\\\\ &= \\eet{\\int_t^T d\\angl{M,M}_s}\\\\\n",
    "(S \\dm (X\\dm X))_t(T)&=(S \\dm M)_t(T) \\\\&=\\eet{\\int_t^T d\\angl{S,M}_s},\n",
    "\\end{align*}\n",
    "$$\n",
    "and so on. "
   ]
  },
  {
   "cell_type": "markdown",
   "metadata": {
    "slideshow": {
     "slide_type": "subslide"
    }
   },
   "source": [
    "- Note that drift terms (or bounded variation terms) do not contribute to diamond products.\n",
    "    - This makes computation much easier.\n",
    "\n",
    "\n",
    "\n",
    "- We will often drop the explicit dependence on $T$ or even on $t$.  So for example, it is to be understood that\n",
    "<p>\n",
    "$$\n",
    "(X \\dm M) = \\eet{\\int_t^T d\\angl{X,M}_s}.\n",
    "$$"
   ]
  },
  {
   "cell_type": "markdown",
   "metadata": {
    "slideshow": {
     "slide_type": "slide"
    }
   },
   "source": [
    "### Diamond products as covariances\n",
    "\n",
    "\n",
    "- Diamond (or autocovariance) functionals are intimately related to conventional covariances.\n",
    "<p>\n",
    "<blockquote><div style=\"background-color:#add8e6; color:darkgreen; font-style: normal;  \" ><h4>\n",
    "Lemma 1</h4>\n",
    "</div>\n",
    "<div style=\"background-color:#E8E8E8; color:#000000; font-style: normal; \">\n",
    "<br>\n",
    "Let $A$ and $B$ be martingales in the same filtered probability space.  Then\n",
    "<p>\n",
    "$$\n",
    "(A \\dm B)_t(T) = \\eet{A_T B_T} - A_t\\,B_t  = \\covt{A_T,B_T}.\n",
    "$$\n",
    "<br>\n",
    "</div>\n",
    "</blockquote>\n",
    "\n",
    "- By finding the appropriate martingales, it is thus always possible to re-express diamond autocovariance functionals in terms of covariances of terminal quantities.  For example, it is easy to show that\n",
    "<p>\n",
    "$$\n",
    "((X\\dm X) \\dm (X\\dm X))_t(T)=(M \\dm M)_t(T) = \\vart{\\angl{X}_T}.\n",
    "$$ <p>\n",
    "    \n",
    "    - A very neat general result!"
   ]
  },
  {
   "cell_type": "markdown",
   "metadata": {
    "slideshow": {
     "slide_type": "slide"
    }
   },
   "source": [
    "### Autocovariance functionals vs covariances\n",
    "\n",
    "- Covariances are typically easy to compute using simulation.\n",
    "\n",
    "\n",
    "- Diamond products are expressible directly in terms of the formulation of a model in forward variance form.\n"
   ]
  },
  {
   "cell_type": "markdown",
   "metadata": {
    "slideshow": {
     "slide_type": "slide"
    }
   },
   "source": [
    "### The leverage swap again\n",
    "\n",
    "- An easy corollary of Lemma 1 is:\n",
    "<p><p>\n",
    "$$\n",
    "\\covf{M,S}= (S \\dm M)_t(T).\n",
    "$$\n",
    "\n",
    "    \n",
    "- It follows that the fair value of the leverage swap is given by <p><p>\n",
    "$$\n",
    "\\mathfrak L_t(T) = \\frac{1}{S_t}(S \\dm M)_t(T).\n",
    "$$"
   ]
  },
  {
   "cell_type": "markdown",
   "metadata": {
    "slideshow": {
     "slide_type": "slide"
    }
   },
   "source": [
    "### The $\\mG$-forest expansion\n",
    "\n",
    "<blockquote><div style=\"background-color:#add8e6; color:darkgreen; font-style: normal;  \" ><h4>\n",
    "Theorem 1.1 of [Friz et al.]<sup id=\"cite_ref-FGR\" class=\"reference\"><a href=\"#cite_note-FGR\"><span>[5]</span></a></sup></h4>\n",
    "</div>\n",
    "<div style=\"background-color:#E8E8E8; color:#000000; font-style: normal; \">\n",
    "<br>\n",
    "Let $Y_T$ be a real-valued, $\\cF_T$-measurable random variable with associated martingale $Y_t=\\eet{Y_T}$.\n",
    "Under natural integrability conditions, with $a,b$ small enough, there is a.s. convergence of<p>\n",
    "\\begin{equation}  \\label{eq:AsymCG}\n",
    "\\log \\eef{e^{a Y_T + b \\langle Y \\rangle_T}} = \n",
    "a Y_t + b \\langle Y \\rangle_t \n",
    "+  \\sum_{k\\ge2}   \\mG_t^k (T),\n",
    "  \\end{equation}\n",
    "where\n",
    "$$    \n",
    "\\bea \\label{eq:Grec}\n",
    "\\mG^2  &=& \\left( \\frac{1}{2} a^2+ b\\right)\n",
    "(Y \\dm Y)_t(T)  ,\n",
    "\\nonumber \\\\\n",
    " \\mG^k &=& \\frac{1}{2} \\sum_{j = 2}^{k -2} \\mG^{k - j} \\dm \\mG^j +  (a \\,Y  \\dm \\mG^{k - 1}) \\text{ for } k>2.\n",
    "\\eea\n",
    "$$\n",
    "<br>\n",
    "</div>\n",
    "</blockquote>"
   ]
  },
  {
   "cell_type": "markdown",
   "metadata": {
    "slideshow": {
     "slide_type": "subslide"
    }
   },
   "source": [
    "### Idea of the proof\n",
    "\n",
    "- For a generic (continuous) semimartingale $Z$, sufficiently integrable, let\n",
    "$$\n",
    "\\Lambda_t^T = \\log \\eet{e^{Z_{t,T}}}.\n",
    "$$\n",
    "\n",
    "\n",
    "- Then,  noting that $\\Lambda_T^T=0$,\n",
    "$$\n",
    "\\eet{e^{Z_T}} = \\eet{e^{Z_T+\\Lambda^T_T}} = e^{Z_t + \\Lambda_t^T}. %= \\cE\\left(\\right)\n",
    "$$\n",
    "\n",
    "\n",
    "- The stochastic logarithm $\\cL\\left(\\E_\\bullet(Z_T)\\right) = Z+ \\Lambda^T +\\tfrac12 \\angl{Z+ \\Lambda^T}$ is a martingale.  \n",
    "\n",
    "\n",
    "- Thus,\n",
    "$$\n",
    "\\beas\n",
    " \\Lambda_t^T &=& \\eet{Z_{t,T}  +\\tfrac12 \\angl{Z+ \\Lambda^T}_{t,T} } \\\\&=& \\eet{Z_{t,T}} + \\tfrac12( (Z+ \\Lambda^T)\\dm(Z+ \\Lambda^T))_t(T).\n",
    "\\eeas\n",
    "$$\n",
    "\n"
   ]
  },
  {
   "cell_type": "markdown",
   "metadata": {
    "slideshow": {
     "slide_type": "subslide"
    }
   },
   "source": [
    "\n",
    "\n",
    "\n",
    "- Now with $Z = \\epsilon a Y + \\epsilon^2\\,b \\angl{Y}$ we get\n",
    "$$\n",
    "\\beas\n",
    "    \\Lambda_t^T (\\eps)  =\\eps a\\, \\eet{Y_{t,T}} +\\epsilon^2 \\,b\\, (Y \\dm Y)_t(T) + \n",
    "     { \\tfrac{1}{2} \\left(\\eps a Y  + \\Lambda_t^T (\\eps)\\right)^{\\dm 2} _t(T)  }  \\;.\n",
    "\\eeas\n",
    "$$\n",
    "\n",
    "\n",
    "- Put $\\Lambda_t^T (\\eps) =\\eps^{2} \\mG^2_t + \\eps^{3} \\mG^3_t + ...$, and match coefficients of $\\epsilon^n$.<p>\n",
    "    - $[\\eps^2]$:  $\\mG^2_t = b\\, (Y \\dm Y)_t(T) + \\tfrac 12 a^2 \\,(Y \\dm Y)_t(T) $.\n",
    "    - $[\\eps^3]$:  $\\mG^3_t  = (a\\,Y \\dm \\mG^2)_t(T)$.\n",
    "    - $[\\eps^4]$:  $\\mG^4_t =( a\\,Y \\dm \\mG^{3})_t(T) +  \\tfrac{1}{2} (\\mG^{2} \\dm \\mG^{2})_t(T).\n",
    "$\n",
    "\n",
    "    \n",
    "- We see the recursion formula emerge!"
   ]
  },
  {
   "cell_type": "markdown",
   "metadata": {
    "slideshow": {
     "slide_type": "slide"
    }
   },
   "source": [
    "### The $\\tilde \\mF$ expansion\n",
    "\n",
    "A corollary is:\n",
    "\n",
    "<blockquote><div style=\"background-color:#add8e6; color:darkgreen; font-style: normal;  \" ><h4>\n",
    "Corollary 3.1 of [Alòs et al.]<sup id=\"cite_ref-AGR\" class=\"reference\"><a href=\"#cite_note-AGR\">[1]</a></sup></h4>\n",
    "</div>\n",
    "<div style=\"background-color:#E8E8E8; color:#000000; font-style: normal; \">\n",
    "<br>\n",
    "The cumulant  generating function (CGF) is given by<p>\n",
    "$$\n",
    "\\psi_t(T;a) = \\log \\eet{e^{\\ui \\,a \\,X_T}} = \\ui\\,a\\,X_t - \\frac{1}{2}a\\,(a+\\ui)\\,M_t(T) + \\sum_{\\ell=1}^\\infty\\,\\tilde {\\mF}_\\ell(a).\n",
    "\\label{eq:CGFmF}\n",
    "$$\n",
    "    <p>\n",
    "where the $\\tmF_\\ell$ satisfy the recursion\n",
    "$\n",
    "\\tmF_0 = -\\tfrac 1 2 a(a+\\ui)\\,M_t %= -\\tfrac 1 2 a(a+\\ui)\\,\\M\n",
    "$\n",
    "and for $k>0$,\n",
    "    <p>\n",
    "$$\n",
    "\\tmF_\\ell=\\frac12\\,\\sum_{j=0}^{\\ell-2}\\,\\left(\\tmF_{\\ell-2-j} \\dm \\tmF_j\\right) +\\ui a\\, \\left(X \\dm \\tmF_{\\ell-1}\\right).\n",
    "$$  \n",
    "<br>\n",
    "</div>\n",
    "</blockquote>\n",
    "<p>\n",
    "    \n",
    "    \n",
    "- A formal expression for the characteristic function for any stochastic volatility model written in forward variance form.\n",
    "    - Useful in practice if the diamond products are expressible in closed form (AFV models for example)."
   ]
  },
  {
   "cell_type": "markdown",
   "metadata": {
    "slideshow": {
     "slide_type": "slide"
    }
   },
   "source": [
    "### Variance and gamma swaps\n",
    "\n",
    "The variance swap is given by the fair value of the log-strip:\n",
    "\n",
    "$$\n",
    "\\eet{X_T}= (-\\ui)\\,{\\psi_t}'(T;0) = X_t - \\frac{1}{2}\\,w_t(T)\n",
    "$$\n",
    "\n",
    "and the gamma swap (wlog set $X_t=0$) by\n",
    "\n",
    "$$\n",
    "\\eet{X_T \\,e^{ X_T}} = \\left. (-\\ui)\\,\\frac{d}{da}\\,\\psi_t(T;a)\\right|_{a=-\\ui}.\n",
    "$$\n",
    "\n",
    "- The point is that we can in principle compute such moments for any stochastic volatility model written in forward variance form, whether or not there exists a closed-form expression for the characteristic function."
   ]
  },
  {
   "cell_type": "markdown",
   "metadata": {
    "slideshow": {
     "slide_type": "slide"
    }
   },
   "source": [
    "### The gamma swap\n",
    "\n",
    "We can compute the gamma swap as\n",
    "\n",
    "$$\n",
    "\\eef{X_T \\,e^{ X_T}} = \\left. (-\\ui)\\,\\frac{d}{da}\\,\\psi_t(T;a)\\right|_{a=-\\ui}.\n",
    "$$\n",
    "\n",
    "It is easy to see that only trees containing a single $M$ leaf will survive in the sum after differentiation when $a = - \\ui$ so that\n",
    "\n",
    "$$\n",
    "\\sum_{k=1}^\\infty \\,{\\tilde \\mF_k}'(-\\ui) =\\frac12\\,\\sum_{k=1}^\\infty \\,(X \\dm)^k M\n",
    "$$\n",
    "where $ (X \\dm)^k M $ is defined recursively for $k>0$ as $(X \\dm)^k M= X \\dm ( X \\dm)^{k-1} M$. \n",
    "\n",
    "- For example, $(X \\dm)^3 M = (X \\dm (X \\dm (X \\dm M)))$."
   ]
  },
  {
   "cell_type": "markdown",
   "metadata": {
    "slideshow": {
     "slide_type": "subslide"
    }
   },
   "source": [
    "Then the fair value of a gamma swap is given by\n",
    "\n",
    "$$\n",
    "\\cG_t(T) = 2\\,\\eet{X_T \\,e^{ X_T}} = w_t(T)  +\\sum_{k=1}^\\infty \\,(X \\dm)^k M.\n",
    "$$\n",
    "\n",
    "- This expression allows for explicit computation of the gamma swap for any model written in forward variance form. "
   ]
  },
  {
   "cell_type": "markdown",
   "metadata": {
    "slideshow": {
     "slide_type": "slide"
    }
   },
   "source": [
    "### The leverage swap\n",
    "\n",
    "We deduce that the fair value of a leverage swap is given by\n",
    "\n",
    "<a name=\"eq:leverage\"></a>(2)\n",
    "$$\n",
    "\\mathfrak L_t(T) = \\cG_t(T) - M_t(T) = \\sum_{k=1}^\\infty \\,(X \\dm)^k M.\n",
    "$$  \n",
    "\n",
    "-  The leverage swap is expressed explicitly in terms of covariance functionals of the spot and vol. processes.\n",
    "    -  If spot and vol. processes are uncorrelated, the fair value of the leverage swap is zero.\n",
    "    "
   ]
  },
  {
   "cell_type": "markdown",
   "metadata": {
    "slideshow": {
     "slide_type": "subslide"
    }
   },
   "source": [
    "- The leverage swap may be easily estimated from the volatility smile along the lines of [Fukasawa]<sup id=\"cite_ref-Fukasawa\" class=\"reference\"><a href=\"#cite_note-Fukasawa\"><span>[7]</span></a></sup> \n",
    "or alternatively by integration if we have fitted some curve to the smile.\n",
    "    \n",
    "\n",
    "\n",
    "-  We will now use [(2)](#eq:leverage) to compute an explicit expression for the value of a leverage swap in the rough Heston model with $\\lambda=0$."
   ]
  },
  {
   "cell_type": "markdown",
   "metadata": {
    "slideshow": {
     "slide_type": "slide"
    }
   },
   "source": [
    "### The rough Heston model (with $\\lambda=0$) in forward variance form\n",
    "\n",
    "\n",
    "Recall that in forward variance form, the rough Heaston model with $\\lambda=0$ reads\n",
    "\n",
    "$$\n",
    "\\beas\n",
    "\\frac{dS_t}{S_t} &=& \\sqrt{V_t}\\,dZ_t\\\\\n",
    "d\\xi_t(u) &=& \\frac{\\nu}{\\Gamma(\\alpha)} \\,(u-t)^{\\alpha-1}\\,\\sqrt{V_t}\\,dW_t.\n",
    "\\eeas\n",
    "$$\n",
    "\n",
    "- The rough Heston model (with $\\lambda=0$ turns out to be even more tractable than the classical Heston model!"
   ]
  },
  {
   "cell_type": "markdown",
   "metadata": {
    "slideshow": {
     "slide_type": "slide"
    }
   },
   "source": [
    "### Computation of autocovariance functionals\n",
    "\n",
    "Apart from $\\cF_t$ measurable terms (abbreviated as `drift'), we have\n",
    "\n",
    "$$\n",
    "\\beas\n",
    "dX_t &=& \\sqrt{V_t}\\,dZ_t + \\text{drift}\\\\\n",
    "dM_t &=& \\int_t^T\\,d\\xi_t(u)\\,du + \\text{drift}\\\\\n",
    "& =& \\frac{\\nu}{\\Gamma(\\alpha)} \\,\\sqrt{V_t} \\,\\left(\\int_t^T\\,\\frac{du}{(u-t)^\\gamma}\\right)\\,dW_t+ \\text{drift}\\\\\n",
    "& =& \\frac{\\nu\\,(T-t)^\\alpha}{\\Gamma(1+\\alpha)} \\,\\sqrt{V_t} \\,dW_t+ \\text{drift}.\n",
    "\\eeas\n",
    "$$\n"
   ]
  },
  {
   "cell_type": "markdown",
   "metadata": {
    "slideshow": {
     "slide_type": "slide"
    }
   },
   "source": [
    "### The first order forest\n",
    "\n",
    "There is only one tree in the forest $\\mF_1$.\n",
    "\n",
    "\n",
    "\\begin{align*}\n",
    "\\mF_1=(X \\dm M)_t(T) &= \\eet{\\int_t^T d\\angl{X,M}_s}\\nonumber\\\\\n",
    "&= \\frac{\\rho\\,\\nu}{\\Gamma(1+\\alpha)} \\,\\eet{\\int_t^T \\,V_s \\,(T-s)^\\alpha\\,ds}\\nonumber\\\\\n",
    "&= \\frac{\\rho\\,\\nu}{\\Gamma(1+\\alpha)} \\,\\int_t^T \\,\\xi_t(s) \\,(T-s)^\\alpha\\,ds.\n",
    "\\end{align*}\n"
   ]
  },
  {
   "cell_type": "markdown",
   "metadata": {
    "slideshow": {
     "slide_type": "slide"
    }
   },
   "source": [
    "### The second order forest\n",
    "\n",
    "There are two trees in $\\mF_2$.  The first tree is\n",
    "\n",
    "\\begin{align*}\n",
    "(M \\dm M)_t(T) &= \\eet{\\int_t^T d\\angl{M,M}_s}\\nonumber\\\\\n",
    "&= \\frac{\\nu^2}{\\Gamma(1+\\alpha)^2} \\,\\int_t^T \\,\\xi_t(s) \\,(T-s)^{2\\,\\alpha}\\,ds.\n",
    "\\end{align*}"
   ]
  },
  {
   "cell_type": "markdown",
   "metadata": {
    "slideshow": {
     "slide_type": "subslide"
    }
   },
   "source": [
    "The second tree $\\left(X \\dm (X \\dm M)\\right)_t (T) $ is more complicated.  \n",
    "\n",
    "Define for $j \\geq 0$\n",
    "\n",
    "$$\n",
    "I^{(j)}_t(T):=\\int_t^T\\,ds\\,\\xi_t(s)\\,(T-s)^{j\\,\\alpha}.\n",
    "$$"
   ]
  },
  {
   "cell_type": "markdown",
   "metadata": {
    "slideshow": {
     "slide_type": "subslide"
    }
   },
   "source": [
    "### In terms of $I^{(j)}_t(T)$\n",
    "\n",
    "We may then rewrite the above expressions as\n",
    "\n",
    "$$\n",
    "\\beas\n",
    "(X \\dm M)_t(T) &=& \\frac{\\rho\\,\\nu}{\\Gamma(1+\\alpha)} \\,I^{(1)}_t(T)\\\\\n",
    "(M \\dm M)_t(T) &=& \\frac{\\nu^2}{\\Gamma(1+\\alpha)^2} \\,I^{(2)}_t(T).\n",
    "\\eeas\n",
    "$$"
   ]
  },
  {
   "cell_type": "markdown",
   "metadata": {
    "slideshow": {
     "slide_type": "subslide"
    }
   },
   "source": [
    "A little more computation gives\n",
    "\n",
    "\n",
    "\\begin{align*}\n",
    "\\left(X \\dm (X \\dm M)\\right)_t (T) &=  \\eet{\\int_t^T d\\angl{X,I^{(1)}}_s}\\nonumber\\\\\n",
    "&= \\frac{\\rho^2\\,\\nu^2}{\\Gamma(1+\\alpha)} \\,\\frac{\\Gamma(1+\\alpha)}{\\Gamma(1+2\\,\\alpha)}\\int_t^T\\,ds\\,\\eet{\\int_s^T \\,V_s\\,(T-s)^{2\\,\\alpha}\\,ds}\\nonumber\\\\\n",
    "  &= \\frac{\\rho^2\\,\\nu^2}{\\Gamma(1+\\alpha)\\,\\Gamma(\\alpha)} \\,\\int_t^T\\,ds\\,\\eet{\\int_s^T \\,V_s \\,\\frac{(T-u)^\\alpha}{(u-s)^\\gamma}\\,du}\\nonumber\\\\\n",
    "&= \\frac{\\rho^2\\,\\nu^2}{\\Gamma(1+2\\,\\alpha)} \\,\\int_t^T\\,ds\\,\\,\\xi_t(s)\\,(T-s)^{2\\,\\alpha}\\nonumber\\\\\n",
    "&= \\frac{\\rho^2\\,\\nu^2}{\\Gamma(1+2\\,\\alpha)} \\,I^{(2)}_t(T).\n",
    "\\end{align*}\n",
    "\n",
    "One can be easily convinced that each tree in the level-$k$ forest $\\mF_k$ is  $I^{(k)}$ multiplied by a simple prefactor.  "
   ]
  },
  {
   "cell_type": "markdown",
   "metadata": {
    "slideshow": {
     "slide_type": "slide"
    }
   },
   "source": [
    "### The third order forest\n",
    "\n",
    "For example, continuing to the forest $\\mF_3$, we have the following.\n",
    "\n",
    "$$\n",
    "\\beas\n",
    "\\left(M \\dm (X \\dm M)\\right)_t (T) &=&  \\frac{\\rho\\,\\nu^3\\,\\Gamma(1+2\\,\\alpha)}{\\Gamma(1+\\alpha)^2\\,\\Gamma(1+3\\,\\alpha)} \\,I^{(3)}_t (T)\\\\\n",
    "\\left(X \\dm \\left(X \\dm (X \\dm M)\\right)\\right)_t  (T) &=& \\frac{\\rho^3\\,\\nu^3}{\\Gamma(1+3\\,\\alpha)} \\,I^{(3)}_t (T)\\\\\n",
    "\\left(X \\dm (M \\dm M)\\right)_t  (T) &=& \\frac{\\rho\\,\\nu^3\\,\\Gamma(1+2\\,\\alpha)}{\\Gamma(1+\\alpha)^2\\,\\Gamma(1+3\\,\\alpha)} \\,I^{(3)}_t (T).\n",
    "\\eeas\n",
    "$$\n",
    "\n",
    "In particular, we easily identify the pattern\n",
    "\n",
    "$$\n",
    "(X \\dm)^k M_t =  \\frac{(\\rho\\,\\nu)^k}{\\Gamma (1+ k \\,\\alpha )}\\,I^{(k)}_t(T).\n",
    "$$"
   ]
  },
  {
   "cell_type": "markdown",
   "metadata": {
    "slideshow": {
     "slide_type": "slide"
    }
   },
   "source": [
    "### The leverage swap under rough Heston\n",
    "\n",
    "Using [(2)](#eq:leverage), we have\n",
    "\n",
    "$$\n",
    "\\beas\n",
    "\\mathfrak L_t(T) &=&  \\sum_{k=1}^\\infty \\,(X \\dm)^k M\\nonumber\\\\\n",
    "&=& \\sum_{k=1}^\\infty \\,\\frac{(\\rho\\,\\nu)^k}{\\Gamma (1+ k \\,\\alpha )}\\,\\int_t^T\\,du\\,\\xi_t(u)\\,(T-u)^{k\\,\\alpha}\\nonumber\\\\\n",
    "&=&\\int_t^T\\,du\\,\\xi_t(u)\\,\\left\\{E_{\\alpha }(\\rho\\,\\nu\\,(T-u)^\\alpha)-1\\right\\}\n",
    "\\eeas\n",
    "$$\n",
    "\n",
    "where $E_\\alpha(\\cdot)$ denotes the Mittag-Leffler function.\n",
    "\n",
    "- A closed-form formula for the leverage swap!"
   ]
  },
  {
   "cell_type": "markdown",
   "metadata": {
    "slideshow": {
     "slide_type": "slide"
    }
   },
   "source": [
    "### The normalized leverage contract\n",
    "\n",
    "Given the form of the expression for the leverage contract, it is natural to normalize by the variance contract.  We therefore define\n",
    "\n",
    "$$\n",
    "L_t(T) = \\frac{\\mathfrak L_t(T)}{M_t(T)}.\n",
    "$$\n",
    "\n",
    "In the special case of the rough Heston model with a flat forward variance curve, \n",
    "\n",
    "$$\n",
    "L_t(T) = E_{\\alpha ,2}(\\rho\\,\\nu\\,\\tau^\\alpha)-1,\n",
    "$$\n",
    "\n",
    "where $E_{\\alpha,2}(\\cdot)$ is a generalized Mittag-Leffler function, independent of the reversion level $\\theta$.  We further define an $n$th order approximation to $L_t(T)$ as\n",
    "\n",
    "$$\n",
    "L_t^{(n)}(T) =  \\sum_{k=1}^n \\,\\frac{(\\rho\\,\\nu\\,\\tau^{\\alpha})^k}{\\Gamma (2+ k \\,\\alpha )}.\n",
    "$$"
   ]
  },
  {
   "cell_type": "markdown",
   "metadata": {
    "slideshow": {
     "slide_type": "slide"
    }
   },
   "source": [
    "### Implement the approximate formulae"
   ]
  },
  {
   "cell_type": "code",
   "execution_count": 1,
   "metadata": {
    "jupyter": {
     "outputs_hidden": true
    },
    "slideshow": {
     "slide_type": "fragment"
    }
   },
   "outputs": [],
   "source": [
    "ltT.raw <- function(H,eta,rho,n)function(tau){\n",
    "    k <- (1:n)\n",
    "    alpha <- H+1/2\n",
    "    x <- rho * eta * tau^alpha \n",
    "    vec <- x^k/gamma(2+k*alpha)\n",
    "    return(sum(vec))\n",
    "}\n",
    "    \n",
    "ltT <- function(H,eta,rho,n){Vectorize(ltT.raw(H,eta,rho,n))}"
   ]
  },
  {
   "cell_type": "markdown",
   "metadata": {
    "slideshow": {
     "slide_type": "slide"
    }
   },
   "source": [
    "### Some R-code"
   ]
  },
  {
   "cell_type": "code",
   "execution_count": 2,
   "metadata": {
    "slideshow": {
     "slide_type": "fragment"
    }
   },
   "outputs": [],
   "source": [
    "setwd(\"./QRV\")"
   ]
  },
  {
   "cell_type": "code",
   "execution_count": 3,
   "metadata": {
    "slideshow": {
     "slide_type": "fragment"
    }
   },
   "outputs": [],
   "source": [
    "source(\"BlackScholes.R\")\n",
    "source(\"BlackFormula.R\")\n",
    "source(\"fwdVarCurve.R\")\n",
    "source(\"FukasawaRobust.R\")\n",
    "source(\"GammaKernel.R\")\n",
    "source(\"HQE.R\")\n",
    "source(\"Lewis.R\")\n",
    "source(\"plotIvols.R\")\n",
    "source(\"roughHestonPadeLambda.R\")"
   ]
  },
  {
   "cell_type": "code",
   "execution_count": 4,
   "metadata": {
    "slideshow": {
     "slide_type": "fragment"
    }
   },
   "outputs": [],
   "source": [
    "library(repr)\n",
    "library(colorspace)\n",
    "library(MittagLeffleR)\n",
    "library(stinepack)"
   ]
  },
  {
   "cell_type": "markdown",
   "metadata": {
    "slideshow": {
     "slide_type": "slide"
    }
   },
   "source": [
    "### Set up nice colors"
   ]
  },
  {
   "cell_type": "code",
   "execution_count": 5,
   "metadata": {
    "slideshow": {
     "slide_type": "fragment"
    }
   },
   "outputs": [],
   "source": [
    "my.col <- sequential_hcl(5, palette=\"Batlow\")\n",
    "bl <- \"royalblue\"\n",
    "rd <- \"red2\"\n",
    "pk <- \"hotpink1\"\n",
    "gr <- \"green4\"\n",
    "br <-\"brown\"\n",
    "pu <- \"purple\"\n",
    "or <- \"orange\""
   ]
  },
  {
   "cell_type": "markdown",
   "metadata": {
    "slideshow": {
     "slide_type": "slide"
    }
   },
   "source": [
    "### A numerical example\n",
    "\n",
    "We now perform a  numerical computation of the value of the leverage swap using the forest expansion in the rough Heston model with the following parameters, calibrated to the SPX options market as of May 19, 2017:\n",
    "\n",
    "$$\n",
    "H = 0.0474;\\quad \\nu = 0.2910;\\quad \\rho = -0.6710.\n",
    "$$\n",
    "\n"
   ]
  },
  {
   "cell_type": "code",
   "execution_count": 6,
   "metadata": {
    "jupyter": {
     "outputs_hidden": true
    },
    "slideshow": {
     "slide_type": "fragment"
    }
   },
   "outputs": [],
   "source": [
    "H.20170519 <- 0.0236\n",
    "nu.20170519 <- 0.3266\n",
    "rho.20170519 <- -0.6510\n",
    "params.rHeston <- list(H=H.20170519,nu=nu.20170519,rho=rho.20170519)"
   ]
  },
  {
   "cell_type": "markdown",
   "metadata": {
    "slideshow": {
     "slide_type": "slide"
    }
   },
   "source": [
    "### Plot of successive approximations"
   ]
  },
  {
   "cell_type": "code",
   "execution_count": 7,
   "metadata": {
    "jupyter": {
     "outputs_hidden": true
    },
    "slideshow": {
     "slide_type": "fragment"
    }
   },
   "outputs": [],
   "source": [
    "library(repr)\n",
    "options(repr.plot.width=10,repr.plot.height=7)"
   ]
  },
  {
   "cell_type": "code",
   "execution_count": 8,
   "metadata": {
    "slideshow": {
     "slide_type": "subslide"
    }
   },
   "outputs": [
    {
     "data": {
      "image/png": "[encoded data removed]",
      "text/plain": [
       "plot without title"
      ]
     },
     "metadata": {
      "image/png": {
       "height": 420,
       "width": 600
      }
     },
     "output_type": "display_data"
    }
   ],
   "source": [
    "curve(ltT(H.20170519,nu.20170519,rho.20170519,1)(x),from=0,to=3,col=br,lwd=1,lty=2,\n",
    "     xlab=expression(paste(\"Time to expiry \",tau)),ylab=expression(L[t](T)))\n",
    "curve(ltT(H.20170519,nu.20170519,rho.20170519,2)(x),from=0,to=3,col=bl,lwd=1,lty=3,add=T)\n",
    "curve(ltT(H.20170519,nu.20170519,rho.20170519,3)(x),from=0,to=3,col=gr,lwd=1,lty=4,add=T)\n",
    "curve(ltT(H.20170519,nu.20170519,rho.20170519,20)(x),from=0,to=3,col=rd,lwd=2,add=T)"
   ]
  },
  {
   "cell_type": "markdown",
   "metadata": {
    "slideshow": {
     "slide_type": "fragment"
    }
   },
   "source": [
    "Figure 3: Successive approximations to the (absolute value of) the normalized rough Heston leverage swap.  The solid red line is the exact expression $L_t(T)$; $L_t^{(1)}(T)$, $L_t^{(2)}(T)$, and $L_t^{(3)}(T)$ are brown dashed, blue dotted and dark green dash-dotted lines respectively. "
   ]
  },
  {
   "cell_type": "markdown",
   "metadata": {
    "slideshow": {
     "slide_type": "slide"
    }
   },
   "source": [
    "### The leverage swap in a general AFV model\n",
    "\n",
    "From the definition of affine forward variance model,\n",
    "$$\n",
    "\\psi_t(T;a) = \\log \\eet{e^{\\ui a \\,(X_{t,T})}} = \\int_t^T \\,\\xi_t(u)\\,g(T-s;a)\\, du = (\\xi \\star g)_t(T)\n",
    "$$\n",
    "where $g$ satisfies the convolution Riccati equation\n",
    "<p>\n",
    "$$\n",
    "\\beq\n",
    "g(\\tau;a) = -\\tfrac{1}{2}a\\,(a+\\ui)  +   \\rho\\, \\ui a \\, (\\kappa \\star g) (\\tau;a)  \n",
    "+ \\tfrac{1}{2}\\, \\left((\\kappa \\star g)(\\tau;a)\\right) ^2,\\quad \\tau \\ge 0.\n",
    "\\label{eq:VolterraRiccati}\n",
    "\\eeq\n",
    "$$\n",
    "    \n",
    "Now recall that\n",
    "$$\n",
    "\\mathfrak{L}_t(T) = - 2\\,\\ui\\,\\left\\{\\psi_t'(T;-\\ui) +\\psi_t'(T;0) \\right\\}. \n",
    "$$"
   ]
  },
  {
   "cell_type": "markdown",
   "metadata": {
    "slideshow": {
     "slide_type": "subslide"
    }
   },
   "source": [
    "Let $ h(t;a) = (\\kappa \\star g)(t;a)$.  Then, differentiating the convolution Riccati equation wrt $a$,\n",
    "<p>\n",
    "$$\n",
    "\\beq\n",
    "g'(\\tau;a) = -a - \\tfrac \\ui 2 + i\\,\\rho\\, h(\\tau;a)+ i\\,\\rho\\, a\\,h'(\\tau;a)  +  h(\\tau;a)\\,h'(\\tau;a).\n",
    "\\label{eq:Riccati_g}\n",
    "\\eeq\n",
    "$$\n",
    "    \n",
    "Since $g(\\tau;0)=g(\\tau;-\\ui) = 0$, it follows that $h(\\tau;0)=h(\\tau;-\\ui) = 0$, and thus\n",
    "    <p>\n",
    "$$\n",
    "g'(\\tau;0) = - \\tfrac i2; \\quad g'(\\tau;-\\ui) = \\tfrac \\ui2 +  \\rho\\, h'(\\tau;-\\ui).\n",
    "$$\n",
    " "
   ]
  },
  {
   "cell_type": "markdown",
   "metadata": {
    "slideshow": {
     "slide_type": "subslide"
    }
   },
   "source": [
    "       \n",
    "        \n",
    "The leverage swap is then given by\n",
    "\\begin{align*}\n",
    "\\mathfrak L_t(T)  = -2\\,\\ui \\,\\rho\\, \\int_t^T \\,\\xi_t(u) \\,h'(T-u;-\\ui) \\,du.\n",
    "\\end{align*}\n",
    "Denote $ g'(\\tau;-\\ui)$ by $g'$.  Then, from the convolution Riccati equation with $a=-\\ui$,\n",
    "        <p>\n",
    "\\begin{align}\n",
    "g'(\\tau)\n",
    "%=\\tfrac \\ui 2 + \\rho\\,\\int_0^\\tau\\,\\kappa(s)\\, g_1(\\tau-s)\\,ds\n",
    "=\\tfrac \\ui 2 +\\rho\\,(\\kappa \\star g')(\\tau),\n",
    "\\label{eq:gp}\n",
    "\\end{align}\n",
    "a *linear* convolution equation for $g'$.\n",
    "            \n",
    "- Can be solved (in principle) using Laplace transforms."
   ]
  },
  {
   "cell_type": "markdown",
   "metadata": {
    "slideshow": {
     "slide_type": "slide"
    }
   },
   "source": [
    "### Fukasawa's formula for the gamma contract\n",
    "\n",
    "- [Fukasawa]<sup id=\"cite_ref-Fukasawa\" class=\"reference\"><a href=\"#cite_note-Fukasawa\">[7]</a></sup> derives an expression for the value of a generalized European\n",
    "payoff in terms of implied volatilities.\n",
    "\n",
    "\n",
    "\n",
    "- He derives the formula for the variance contract we saw before\n",
    "<p>\n",
    "$$\n",
    "M_t(T)=-2\\,\\eet{\\log\\frac{S_T}{S_t}}=\\int\\limits_{-\\infty}^{\\infty}dz \\,N'(z)\\,\n",
    "\\Sigma\\left(g_-(z)\\right).\n",
    "$$\n",
    "    \n",
    "    \n",
    "\n",
    "- As another application, he also derives the following expression for the value of a gamma contract.  \n",
    "<p>\n",
    "$$\n",
    "\\cG_t(T)=2\\,\\eet{\\frac{S_T}{S_t}\\log\\frac{S_T}{S_t}}=\\int\\limits_{-\\infty}^{\\infty}dz \\,N'(z)\\,\n",
    "\\Sigma\\left(g_+(z)\\right).\n",
    "$$\n",
    "(note $g_+$ instead of $g_-$ in the variance swap case).\n",
    "    \n",
    "    - In particular, if we have a parameterization of the volatility smile (such as SVI or Vola Dynamics), computing the fair value of the covariance swap is straightforward."
   ]
  },
  {
   "cell_type": "markdown",
   "metadata": {
    "slideshow": {
     "slide_type": "slide"
    }
   },
   "source": [
    "### Model calibration using the leverage swap\n",
    "\n",
    "- The leverage swap is easily computed in affine forward variance models.\n",
    "\n",
    "\n",
    "- It may also be estimated from European option prices using the Fukasawa formulae.\n",
    "    - This depends in practice on the quality of variance and gamma swap estimates.\n",
    "\n",
    "\n",
    "-  The parameters of the model may then be estimated.\n",
    "    In the case of rough Heston, 4 parameters to estimate using 50 or so expirations."
   ]
  },
  {
   "cell_type": "markdown",
   "metadata": {
    "slideshow": {
     "slide_type": "slide"
    }
   },
   "source": [
    "### Load volatility smiles from 15-Feb-2023"
   ]
  },
  {
   "cell_type": "code",
   "execution_count": 9,
   "metadata": {
    "slideshow": {
     "slide_type": "fragment"
    }
   },
   "outputs": [
    {
     "data": {
      "text/html": [
       "<table class=\"dataframe\">\n",
       "<caption>A data.frame: 6 × 7</caption>\n",
       "<thead>\n",
       "\t<tr><th></th><th scope=col>Expiry</th><th scope=col>Texp</th><th scope=col>Strike</th><th scope=col>Bid</th><th scope=col>Ask</th><th scope=col>Fwd</th><th scope=col>CallMid</th></tr>\n",
       "\t<tr><th></th><th scope=col>&lt;int&gt;</th><th scope=col>&lt;dbl&gt;</th><th scope=col>&lt;dbl&gt;</th><th scope=col>&lt;dbl&gt;</th><th scope=col>&lt;dbl&gt;</th><th scope=col>&lt;dbl&gt;</th><th scope=col>&lt;dbl&gt;</th></tr>\n",
       "</thead>\n",
       "<tbody>\n",
       "\t<tr><th scope=row>1</th><td>20230216</td><td>0.002737851</td><td>1000</td><td>NA</td><td>7.793085</td><td>4146.742</td><td>NA</td></tr>\n",
       "\t<tr><th scope=row>2</th><td>20230216</td><td>0.002737851</td><td>1200</td><td>NA</td><td>6.813266</td><td>4146.742</td><td>NA</td></tr>\n",
       "\t<tr><th scope=row>3</th><td>20230216</td><td>0.002737851</td><td>1400</td><td>NA</td><td>5.987566</td><td>4146.742</td><td>NA</td></tr>\n",
       "\t<tr><th scope=row>4</th><td>20230216</td><td>0.002737851</td><td>1600</td><td>NA</td><td>5.273554</td><td>4146.742</td><td>NA</td></tr>\n",
       "\t<tr><th scope=row>5</th><td>20230216</td><td>0.002737851</td><td>1800</td><td>NA</td><td>4.644049</td><td>4146.742</td><td>NA</td></tr>\n",
       "\t<tr><th scope=row>6</th><td>20230216</td><td>0.002737851</td><td>2000</td><td>NA</td><td>4.080578</td><td>4146.742</td><td>NA</td></tr>\n",
       "</tbody>\n",
       "</table>\n"
      ],
      "text/latex": [
       "A data.frame: 6 × 7\n",
       "\\begin{tabular}{r|lllllll}\n",
       "  & Expiry & Texp & Strike & Bid & Ask & Fwd & CallMid\\\\\n",
       "  & <int> & <dbl> & <dbl> & <dbl> & <dbl> & <dbl> & <dbl>\\\\\n",
       "\\hline\n",
       "\t1 & 20230216 & 0.002737851 & 1000 & NA & 7.793085 & 4146.742 & NA\\\\\n",
       "\t2 & 20230216 & 0.002737851 & 1200 & NA & 6.813266 & 4146.742 & NA\\\\\n",
       "\t3 & 20230216 & 0.002737851 & 1400 & NA & 5.987566 & 4146.742 & NA\\\\\n",
       "\t4 & 20230216 & 0.002737851 & 1600 & NA & 5.273554 & 4146.742 & NA\\\\\n",
       "\t5 & 20230216 & 0.002737851 & 1800 & NA & 4.644049 & 4146.742 & NA\\\\\n",
       "\t6 & 20230216 & 0.002737851 & 2000 & NA & 4.080578 & 4146.742 & NA\\\\\n",
       "\\end{tabular}\n"
      ],
      "text/markdown": [
       "\n",
       "A data.frame: 6 × 7\n",
       "\n",
       "| <!--/--> | Expiry &lt;int&gt; | Texp &lt;dbl&gt; | Strike &lt;dbl&gt; | Bid &lt;dbl&gt; | Ask &lt;dbl&gt; | Fwd &lt;dbl&gt; | CallMid &lt;dbl&gt; |\n",
       "|---|---|---|---|---|---|---|---|\n",
       "| 1 | 20230216 | 0.002737851 | 1000 | NA | 7.793085 | 4146.742 | NA |\n",
       "| 2 | 20230216 | 0.002737851 | 1200 | NA | 6.813266 | 4146.742 | NA |\n",
       "| 3 | 20230216 | 0.002737851 | 1400 | NA | 5.987566 | 4146.742 | NA |\n",
       "| 4 | 20230216 | 0.002737851 | 1600 | NA | 5.273554 | 4146.742 | NA |\n",
       "| 5 | 20230216 | 0.002737851 | 1800 | NA | 4.644049 | 4146.742 | NA |\n",
       "| 6 | 20230216 | 0.002737851 | 2000 | NA | 4.080578 | 4146.742 | NA |\n",
       "\n"
      ],
      "text/plain": [
       "  Expiry   Texp        Strike Bid Ask      Fwd      CallMid\n",
       "1 20230216 0.002737851 1000   NA  7.793085 4146.742 NA     \n",
       "2 20230216 0.002737851 1200   NA  6.813266 4146.742 NA     \n",
       "3 20230216 0.002737851 1400   NA  5.987566 4146.742 NA     \n",
       "4 20230216 0.002737851 1600   NA  5.273554 4146.742 NA     \n",
       "5 20230216 0.002737851 1800   NA  4.644049 4146.742 NA     \n",
       "6 20230216 0.002737851 2000   NA  4.080578 4146.742 NA     "
      ]
     },
     "metadata": {},
     "output_type": "display_data"
    }
   ],
   "source": [
    "load(\"spxIvols20230215.rData\")\n",
    "ivolData <- spxIvols20230215\n",
    "head(ivolData)"
   ]
  },
  {
   "cell_type": "markdown",
   "metadata": {
    "slideshow": {
     "slide_type": "slide"
    }
   },
   "source": [
    "### Estimated variance and gamma curves"
   ]
  },
  {
   "cell_type": "code",
   "execution_count": 10,
   "metadata": {
    "slideshow": {
     "slide_type": "fragment"
    }
   },
   "outputs": [
    {
     "data": {
      "text/html": [
       "<style>\n",
       ".list-inline {list-style: none; margin:0; padding: 0}\n",
       ".list-inline>li {display: inline-block}\n",
       ".list-inline>li:not(:last-child)::after {content: \"\\00b7\"; padding: 0 .5ex}\n",
       "</style>\n",
       "<ol class=list-inline><li>0.036529328507355</li><li>0.0317776298748159</li><li>0.019801436839558</li><li>0.0216205797598485</li><li>0.0239817142815479</li><li>0.0260070933624724</li></ol>\n"
      ],
      "text/latex": [
       "\\begin{enumerate*}\n",
       "\\item 0.036529328507355\n",
       "\\item 0.0317776298748159\n",
       "\\item 0.019801436839558\n",
       "\\item 0.0216205797598485\n",
       "\\item 0.0239817142815479\n",
       "\\item 0.0260070933624724\n",
       "\\end{enumerate*}\n"
      ],
      "text/markdown": [
       "1. 0.036529328507355\n",
       "2. 0.0317776298748159\n",
       "3. 0.019801436839558\n",
       "4. 0.0216205797598485\n",
       "5. 0.0239817142815479\n",
       "6. 0.0260070933624724\n",
       "\n",
       "\n"
      ],
      "text/plain": [
       "[1] 0.03652933 0.03177763 0.01980144 0.02162058 0.02398171 0.02600709"
      ]
     },
     "metadata": {},
     "output_type": "display_data"
    },
    {
     "data": {
      "text/html": [
       "<style>\n",
       ".list-inline {list-style: none; margin:0; padding: 0}\n",
       ".list-inline>li {display: inline-block}\n",
       ".list-inline>li:not(:last-child)::after {content: \"\\00b7\"; padding: 0 .5ex}\n",
       "</style>\n",
       "<ol class=list-inline><li>0.0363327515229832</li><li>0.0315435433905739</li><li>0.0196544532312524</li><li>0.0213902911973152</li><li>0.0236727054980354</li><li>0.0255246287563552</li></ol>\n"
      ],
      "text/latex": [
       "\\begin{enumerate*}\n",
       "\\item 0.0363327515229832\n",
       "\\item 0.0315435433905739\n",
       "\\item 0.0196544532312524\n",
       "\\item 0.0213902911973152\n",
       "\\item 0.0236727054980354\n",
       "\\item 0.0255246287563552\n",
       "\\end{enumerate*}\n"
      ],
      "text/markdown": [
       "1. 0.0363327515229832\n",
       "2. 0.0315435433905739\n",
       "3. 0.0196544532312524\n",
       "4. 0.0213902911973152\n",
       "5. 0.0236727054980354\n",
       "6. 0.0255246287563552\n",
       "\n",
       "\n"
      ],
      "text/plain": [
       "[1] 0.03633275 0.03154354 0.01965445 0.02139029 0.02367271 0.02552463"
      ]
     },
     "metadata": {},
     "output_type": "display_data"
    }
   ],
   "source": [
    "expiries <- sort(unique(ivolData$Texp))\n",
    "vs <- varSwap.Robust(ivolData)$vs.mid\n",
    "gs <- gammaSwap.Robust(ivolData)$gs.mid\n",
    "\n",
    "head(vs)\n",
    "head(gs)"
   ]
  },
  {
   "cell_type": "markdown",
   "metadata": {
    "slideshow": {
     "slide_type": "slide"
    }
   },
   "source": [
    "### Plot the curves"
   ]
  },
  {
   "cell_type": "code",
   "execution_count": 11,
   "metadata": {
    "slideshow": {
     "slide_type": "fragment"
    }
   },
   "outputs": [
    {
     "data": {
      "image/png": "[encoded data removed]",
      "text/plain": [
       "plot without title"
      ]
     },
     "metadata": {
      "image/png": {
       "height": 420,
       "width": 600
      }
     },
     "output_type": "display_data"
    }
   ],
   "source": [
    "plot(expiries,vs,type=\"b\",pch=20,col=bl,ylab=\"Swap values\",xlab=\"Maturity (years)\")\n",
    "lines(expiries,gs,lty=1,type=\"b\",pch=20,col=rd)\n",
    "legend(\"topleft\",inset=0.02,c(\"Variance swap\",\"Gamma swap\"),col=c(bl,rd),lty=c(1,1))"
   ]
  },
  {
   "cell_type": "markdown",
   "metadata": {
    "slideshow": {
     "slide_type": "fragment"
    }
   },
   "source": [
    "Figure 4: SPX variance curve (blue) and gamma swap curve (red) as of February 15, 2023 estimated using Fukasawa's robust methodology."
   ]
  },
  {
   "cell_type": "markdown",
   "metadata": {
    "slideshow": {
     "slide_type": "slide"
    }
   },
   "source": [
    "### Leverage swap term structure"
   ]
  },
  {
   "cell_type": "code",
   "execution_count": 12,
   "metadata": {
    "slideshow": {
     "slide_type": "fragment"
    }
   },
   "outputs": [
    {
     "data": {
      "image/png": "[encoded data removed]",
      "text/plain": [
       "plot without title"
      ]
     },
     "metadata": {
      "image/png": {
       "height": 420,
       "width": 600
      }
     },
     "output_type": "display_data"
    }
   ],
   "source": [
    "plot(expiries,gs-vs,type=\"b\",pch=20,col=gr,lwd=2,\n",
    "     ylab=\"Leverage swap\",xlab=\"Maturity (years)\")"
   ]
  },
  {
   "cell_type": "markdown",
   "metadata": {
    "slideshow": {
     "slide_type": "fragment"
    }
   },
   "source": [
    "Figure 5: SPX leverage swap curve as of February 15, 2023  estimated using Fukasawa's robust methodology."
   ]
  },
  {
   "cell_type": "markdown",
   "metadata": {
    "slideshow": {
     "slide_type": "slide"
    }
   },
   "source": [
    "### Calibration of rough Heston using the leverage contract\n",
    "\n",
    "- We now use the above leverage swap curve to estimate the parameters of the rough Heston model.\n",
    "\n",
    "\n",
    "\n",
    "- The shape of the curve indicates that we will need the rough Heston model with $\\lambda >0$ to get a decent fit.\n",
    "\n",
    "\n",
    "- It can be shown that the value of the leverage contract under rough Heston is gven by\n",
    "<p>\n",
    "    <p>\n",
    "\\begin{align}\n",
    "\\mathfrak L_t(T) = \\frac{\\rho\\,\\nu}{\\lambda'}\\, \\int_t^T \\,\\xi_t(u) \\,\\left[1-E_\\alpha(-\\lambda'\\,(T-u)^\\alpha)\\right]\\,du,\n",
    "\\label{eq:roughHestonL}\n",
    "\\end{align}\n",
    "where $\\lambda' = \\lambda- \\rho\\,\\eta$.\n",
    "    \n",
    "   - A (natural) generalization of our earlier result for the case $\\lambda >0$."
   ]
  },
  {
   "cell_type": "markdown",
   "metadata": {
    "slideshow": {
     "slide_type": "slide"
    }
   },
   "source": [
    "### The normalized leverage contract"
   ]
  },
  {
   "cell_type": "markdown",
   "metadata": {
    "slideshow": {
     "slide_type": "fragment"
    }
   },
   "source": [
    "- Again, we define\n",
    "<p>\n",
    "$$\n",
    "L_t(T) = \\frac{\\mathfrak L_t(T)}{M_t(T)}.\n",
    "$$\n",
    "\n",
    "    \n",
    "- In the special case of the rough Heston model with a flat forward variance curve, \n",
    "<p>\n",
    "    <p>\n",
    "$$\n",
    "L_t(T) = \\frac{\\rho\\,\\nu}{\\lambda'}\\,\\left(1-E_{\\alpha ,2}(-\\lambda'\\,\\tau^\\alpha)\\right)\n",
    "$$\n",
    "<p>\n",
    "where $E_{\\alpha,2}(\\cdot)$ is a generalized Mittag-Leffler function."
   ]
  },
  {
   "cell_type": "markdown",
   "metadata": {
    "slideshow": {
     "slide_type": "slide"
    }
   },
   "source": [
    "### Implement the normalized leverage contract formula"
   ]
  },
  {
   "cell_type": "code",
   "execution_count": 13,
   "metadata": {
    "slideshow": {
     "slide_type": "fragment"
    }
   },
   "outputs": [],
   "source": [
    "lev.norm <- function(params,xi)function(T){\n",
    "    \n",
    "    H <- params$H\n",
    "    nu <- params$nu\n",
    "    rho <- params$rho\n",
    "    lambda <- params$lambda\n",
    "    al <- H+1/2\n",
    "    lamp <- lambda-rho*nu\n",
    "    \n",
    "    res <- (1-mlf(-lamp*T^al,al,2))*rho*nu/lamp\n",
    "    return(res)\n",
    "    \n",
    "}"
   ]
  },
  {
   "cell_type": "markdown",
   "metadata": {
    "slideshow": {
     "slide_type": "fragment"
    }
   },
   "source": [
    "Here is the empirical estimated leverage:"
   ]
  },
  {
   "cell_type": "code",
   "execution_count": 14,
   "metadata": {
    "slideshow": {
     "slide_type": "fragment"
    }
   },
   "outputs": [],
   "source": [
    "lev.est <- gs/vs-1"
   ]
  },
  {
   "cell_type": "markdown",
   "metadata": {
    "slideshow": {
     "slide_type": "slide"
    }
   },
   "source": [
    "### Rough Heston parameter optimization"
   ]
  },
  {
   "cell_type": "code",
   "execution_count": 15,
   "metadata": {
    "jupyter": {
     "outputs_hidden": true
    },
    "slideshow": {
     "slide_type": "fragment"
    }
   },
   "outputs": [],
   "source": [
    "obj <- function(paramvec){\n",
    "    \n",
    "    H <- paramvec[1]\n",
    "    nu <- paramvec[2]\n",
    "    rho <- paramvec[3]\n",
    "    lambda <- paramvec[4]\n",
    "    params <- list(H=H,nu=nu,rho=rho,lambda=lambda)\n",
    "\n",
    "    l.model <- lev.norm(params)(expiries)\n",
    "    res <- sum((l.model - lev.est)^2/(expiries)^(0.9))*1e6\n",
    "    return(res)\n",
    "}"
   ]
  },
  {
   "cell_type": "code",
   "execution_count": 16,
   "metadata": {
    "slideshow": {
     "slide_type": "subslide"
    }
   },
   "outputs": [
    {
     "data": {
      "text/html": [
       "<dl>\n",
       "\t<dt>$par</dt>\n",
       "\t\t<dd><style>\n",
       ".list-inline {list-style: none; margin:0; padding: 0}\n",
       ".list-inline>li {display: inline-block}\n",
       ".list-inline>li:not(:last-child)::after {content: \"\\00b7\"; padding: 0 .5ex}\n",
       "</style>\n",
       "<ol class=list-inline><li>0.511599077350975</li><li>1.04560609788258</li><li>-0.971373372481705</li><li>2.23552496279593</li></ol>\n",
       "</dd>\n",
       "\t<dt>$value</dt>\n",
       "\t\t<dd>11204.3325174843</dd>\n",
       "\t<dt>$counts</dt>\n",
       "\t\t<dd><style>\n",
       ".dl-inline {width: auto; margin:0; padding: 0}\n",
       ".dl-inline>dt, .dl-inline>dd {float: none; width: auto; display: inline-block}\n",
       ".dl-inline>dt::after {content: \":\\0020\"; padding-right: .5ex}\n",
       ".dl-inline>dt:not(:first-of-type) {padding-left: .5ex}\n",
       "</style><dl class=dl-inline><dt>function</dt><dd>27</dd><dt>gradient</dt><dd>27</dd></dl>\n",
       "</dd>\n",
       "\t<dt>$convergence</dt>\n",
       "\t\t<dd>0</dd>\n",
       "\t<dt>$message</dt>\n",
       "\t\t<dd>'CONVERGENCE: REL_REDUCTION_OF_F &lt;= FACTR*EPSMCH'</dd>\n",
       "</dl>\n"
      ],
      "text/latex": [
       "\\begin{description}\n",
       "\\item[\\$par] \\begin{enumerate*}\n",
       "\\item 0.511599077350975\n",
       "\\item 1.04560609788258\n",
       "\\item -0.971373372481705\n",
       "\\item 2.23552496279593\n",
       "\\end{enumerate*}\n",
       "\n",
       "\\item[\\$value] 11204.3325174843\n",
       "\\item[\\$counts] \\begin{description*}\n",
       "\\item[function] 27\n",
       "\\item[gradient] 27\n",
       "\\end{description*}\n",
       "\n",
       "\\item[\\$convergence] 0\n",
       "\\item[\\$message] 'CONVERGENCE: REL\\_REDUCTION\\_OF\\_F <= FACTR*EPSMCH'\n",
       "\\end{description}\n"
      ],
      "text/markdown": [
       "$par\n",
       ":   1. 0.511599077350975\n",
       "2. 1.04560609788258\n",
       "3. -0.971373372481705\n",
       "4. 2.23552496279593\n",
       "\n",
       "\n",
       "\n",
       "$value\n",
       ":   11204.3325174843\n",
       "$counts\n",
       ":   function\n",
       ":   27gradient\n",
       ":   27\n",
       "\n",
       "\n",
       "$convergence\n",
       ":   0\n",
       "$message\n",
       ":   'CONVERGENCE: REL_REDUCTION_OF_F &lt;= FACTR*EPSMCH'\n",
       "\n",
       "\n"
      ],
      "text/plain": [
       "$par\n",
       "[1]  0.5115991  1.0456061 -0.9713734  2.2355250\n",
       "\n",
       "$value\n",
       "[1] 11204.33\n",
       "\n",
       "$counts\n",
       "function gradient \n",
       "      27       27 \n",
       "\n",
       "$convergence\n",
       "[1] 0\n",
       "\n",
       "$message\n",
       "[1] \"CONVERGENCE: REL_REDUCTION_OF_F <= FACTR*EPSMCH\"\n"
      ]
     },
     "metadata": {},
     "output_type": "display_data"
    }
   ],
   "source": [
    "(res.optim <- optim(c(.05,.25,-.64,.3),obj,method =  \"L-BFGS-B\",\n",
    " lower=c(.0001,.01,-.999,0),upper=c(1,10,0,10)))"
   ]
  },
  {
   "cell_type": "markdown",
   "metadata": {
    "slideshow": {
     "slide_type": "subslide"
    }
   },
   "source": [
    "Notice how fast the calibration is!\n",
    "\n",
    "The optimized parameters are:"
   ]
  },
  {
   "cell_type": "code",
   "execution_count": 17,
   "metadata": {
    "slideshow": {
     "slide_type": "fragment"
    }
   },
   "outputs": [
    {
     "data": {
      "text/html": [
       "<dl>\n",
       "\t<dt>$H</dt>\n",
       "\t\t<dd>0.511599077350975</dd>\n",
       "\t<dt>$nu</dt>\n",
       "\t\t<dd>1.04560609788258</dd>\n",
       "\t<dt>$rho</dt>\n",
       "\t\t<dd>-0.971373372481705</dd>\n",
       "\t<dt>$lambda</dt>\n",
       "\t\t<dd>2.23552496279593</dd>\n",
       "</dl>\n"
      ],
      "text/latex": [
       "\\begin{description}\n",
       "\\item[\\$H] 0.511599077350975\n",
       "\\item[\\$nu] 1.04560609788258\n",
       "\\item[\\$rho] -0.971373372481705\n",
       "\\item[\\$lambda] 2.23552496279593\n",
       "\\end{description}\n"
      ],
      "text/markdown": [
       "$H\n",
       ":   0.511599077350975\n",
       "$nu\n",
       ":   1.04560609788258\n",
       "$rho\n",
       ":   -0.971373372481705\n",
       "$lambda\n",
       ":   2.23552496279593\n",
       "\n",
       "\n"
      ],
      "text/plain": [
       "$H\n",
       "[1] 0.5115991\n",
       "\n",
       "$nu\n",
       "[1] 1.045606\n",
       "\n",
       "$rho\n",
       "[1] -0.9713734\n",
       "\n",
       "$lambda\n",
       "[1] 2.235525\n"
      ]
     },
     "metadata": {},
     "output_type": "display_data"
    }
   ],
   "source": [
    "fit.rHeston <- as.list(res.optim$par)\n",
    "names(fit.rHeston) <- c(\"H\",\"nu\",\"rho\",\"lambda\")\n",
    "fit.rHeston\n",
    "save(fit.rHeston,file=\"fit_rHeston.rData\")"
   ]
  },
  {
   "cell_type": "markdown",
   "metadata": {
    "slideshow": {
     "slide_type": "slide"
    }
   },
   "source": [
    "### Plot the rough Heston fit"
   ]
  },
  {
   "cell_type": "code",
   "execution_count": 18,
   "metadata": {
    "slideshow": {
     "slide_type": "fragment"
    }
   },
   "outputs": [
    {
     "data": {
      "image/png": "[encoded data removed]",
      "text/plain": [
       "plot without title"
      ]
     },
     "metadata": {
      "image/png": {
       "height": 420,
       "width": 600
      }
     },
     "output_type": "display_data"
    }
   ],
   "source": [
    "plot(expiries,lev.est,type=\"p\",col=gr,cex=1,\n",
    "     pch=20,xlab=\"Time to expiry\",ylab=\"Leverage swap fair value\")\n",
    "lines(expiries,lev.norm(fit.rHeston)(expiries),col=rd,lwd=2)\n"
   ]
  },
  {
   "cell_type": "markdown",
   "metadata": {
    "slideshow": {
     "slide_type": "fragment"
    }
   },
   "source": [
    "Figure 6: The green points are robust Fukasawa leverage contract estimates; the red curve is the rough Heston fit."
   ]
  },
  {
   "cell_type": "markdown",
   "metadata": {
    "slideshow": {
     "slide_type": "subslide"
    }
   },
   "source": [
    "### Comments on the calibrated parameters\n",
    "\n",
    "- I don't believe these parameters.\n",
    "    - The best fit is almost classical Heston!\n",
    "    - One issue is that the Fukasawa robust methodology extrapolates smiles at constant volatility in the wings.\n",
    "\n",
    "\n",
    "\n",
    "- However, we will see in Lecture 4 that these calibrated parameters do indeed give the best fit!\n",
    "\n",
    "\n",
    "\n",
    "- We can only conclude that rough Heston is an unreasonable model.\n",
    "    - We already know it has unreasonable dynamics!"
   ]
  },
  {
   "cell_type": "markdown",
   "metadata": {
    "slideshow": {
     "slide_type": "slide"
    }
   },
   "source": [
    "### Summary of lecture ３\n",
    "\n",
    "-  There is a one-to-one correspondence between Hawkes-process based AFI models and AFV models.\n",
    "    - Jaisson and Rosenbaum's rough Heston model is one example.\n",
    "\n",
    "\n",
    "- To get a non-trivial stochastic volatility model as a limit, we need near-instability of the Hawkes kernel.\n",
    "\n",
    "\n",
    "- Affine models have easy to compute characteristic functions.\n",
    "    - Computations of key quantities become much easier.\n",
    "\n",
    "\n",
    "- Diamonds and the forest expansion allow easy computation of model quantities that can be compared with market values\n",
    "    - Potentially easy calibration.\n",
    "    - As many matching conditions as market option expirations.\n",
    "    \n",
    " "
   ]
  },
  {
   "cell_type": "markdown",
   "metadata": {
    "slideshow": {
     "slide_type": "slide"
    }
   },
   "source": [
    "### References\n",
    "\n",
    "<br />\n",
    "  \n",
    "<div class=\"reflist\" style=\"list-style-type: decimal;\">\n",
    "    \n",
    "<ol>\n",
    "    \n",
    "<li id=\"cite_note-AGR\"><span class=\"mw-cite-backlink\"><b><a href=\"#cite_ref-AGR\">^</a></b></span>\n",
    "Elisa Alòs, Jim Gatheral, and Radoš Radoičić, Exponentiation of conditional expectations under stochastic volatility, <i>Quantitative Finance</i> <b>20</b>(1) 13–27.</li>   \n",
    "    \n",
    "    \n",
    "<li id=\"cite_note-BMM\"><span class=\"mw-cite-backlink\"><b><a href=\"#cite_ref-BMM\">^</a></b></span> \n",
    "Emmanuel Bacry, Iacopo Mastromatteo, and Jean-François Muzy, Hawkes processes in finance, <i>Market Microstructure and Liquidity</i> <b>1</b>(01) 1550005 (2015).</li>\n",
    "  \n",
    "\n",
    "   \n",
    "          \n",
    "<li id=\"cite_note-CarrMadan\"><span class=\"mw-cite-backlink\"><b><a href=\"#cite_ref-CarrMadan\">^</a></b></span> Peter Carr and Dilip Madan, Option valuation using the Fast Fourier Transform,  <i>Journal of Computational Finance</i>   <b>2</b>(4), 61–73 (1999).</li>\n",
    "    \n",
    " <li id=\"cite_note-EER\"><span class=\"mw-cite-backlink\"><b><a href=\"#cite_ref-EER\">^</a></b></span>   Omar El Euch and Mathieu Rosenbaum, The characteristic function of rough Heston models,  <i>Mathematical Finance</i>, <b>29</b>(1), 3–38 (2019).</li>\n",
    "    \n",
    "            \n",
    "<li id=\"cite_note-FGR\"><span class=\"mw-cite-backlink\"><b><a href=\"#cite_ref-FGR\">^</a></b></span> Peter Friz,  Jim Gatheral, and Radoš Radoičiċ, Forests, cumulants, martingales <i>The Annals of Probability</i> <b>50</b>(4) 1418-1445 (2022).</li>\n",
    "              \n",
    "\n",
    " <li id=\"cite_note-FG\"><span class=\"mw-cite-backlink\"><b><a href=\"#cite_ref-FG\">^</a></b></span>   Peter K. Friz and Jim Gatheral, Computing the SSR, <i>SSRN:4872776 </i>, (2024).</li>\n",
    "    \n",
    " <li id=\"cite_note-Fukasawa\"><span class=\"mw-cite-backlink\"><b><a href=\"#cite_ref-Fukasawa\">^</a></b></span> \n",
    "Masaaki Fukasawa, The normalizing transformation of the implied volatility smile, <i>Mathematical Finance</i> <b>22</b>(4) 753-762 (2012).</li>\n",
    "                \n",
    "<li id=\"cite_note-TVS\"><span class=\"mw-cite-backlink\"><b><a href=\"#cite_ref-TVS\">^</a></b></span>Jim Gatheral,  <i>The Volatility Surface: A Practitioner’s Guide</i>  , John Wiley and Sons, Hoboken, NJ (2006).</li>\n",
    "      \n",
    "                \n",
    "                  \n",
    "<li id=\"cite_note-AFV\"><span class=\"mw-cite-backlink\"><b><a href=\"#cite_ref-AFV\">^</a></b></span> Jim Gatheral and Martin Keller-Ressel, Affine forward variance models,  <i>Finance and Stochastics</i>, <b>23</b>(3) 501-533 (2019).</li>\n",
    "                  \n",
    "<li id=\"cite_note-JaissonRosenbaum\"><span class=\"mw-cite-backlink\"><b><a href=\"#cite_ref-JaissonRosenbaum\">^</a></b></span> Thibault Jaisson and Mathieu Rosenbaum, Rough fractional diffusions as scaling limits of nearly unstable heavy tailed Hawkes processes, <i>The Annals of Applied Probability</i> <b>26</b>(5) 2860-2882 (2016).</li>\n",
    "\n",
    "                  \n",
    "                  \n",
    "<li id=\"cite_note-Lewis\"><span class=\"mw-cite-backlink\"><b><a href=\"#cite_ref-Lewis\">^</a></b></span>   Alan L. Lewis,   <i>Option Valuation under Stochastic Volatility with Mathematica Code</i>  , Finance Press: Newport Beach, CA (2000).</li>\n",
    "                  \n",
    "</ol> </div>\n",
    "  \n",
    "\n",
    "\n",
    " "
   ]
  }
 ],
 "metadata": {
  "celltoolbar": "Slideshow",
  "kernelspec": {
   "display_name": "R",
   "language": "R",
   "name": "ir"
  },
  "language_info": {
   "codemirror_mode": "r",
   "file_extension": ".r",
   "mimetype": "text/x-r-source",
   "name": "R",
   "pygments_lexer": "r",
   "version": "4.3.3"
  }
 },
 "nbformat": 4,
 "nbformat_minor": 4
}
